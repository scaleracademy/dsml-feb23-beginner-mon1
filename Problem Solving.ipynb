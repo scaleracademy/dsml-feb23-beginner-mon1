{
 "cells": [
  {
   "cell_type": "code",
   "execution_count": 1,
   "id": "20d75b0c",
   "metadata": {},
   "outputs": [],
   "source": [
    "start = (0, 0)\n",
    "coordinates = [(3, 4), (1, 1), (2, 7), (9, 1), (5, 6), (7, 3), (0, 2), (3, 9)]"
   ]
  },
  {
   "cell_type": "code",
   "execution_count": 2,
   "id": "fd075f0e",
   "metadata": {},
   "outputs": [],
   "source": [
    "import math"
   ]
  },
  {
   "cell_type": "code",
   "execution_count": 7,
   "id": "4da9080f",
   "metadata": {},
   "outputs": [],
   "source": [
    "def closest_points(s, c):\n",
    "    all_distances = []\n",
    "    \n",
    "    for point in c:\n",
    "        distance = math.sqrt((point[0] - s[0]) ** 2 + (point[1] - s[1]) ** 2)\n",
    "        all_distances.append((point, distance))\n",
    "        \n",
    "    all_distances = sorted(all_distances, key = lambda x : x[1])\n",
    "    print(all_distances)\n",
    "    \n",
    "    print(\"-\" * 50)\n",
    "    \n",
    "    first_5_distances = all_distances[:5]\n",
    "    print(first_5_distances)\n",
    "    \n",
    "    print(\"-\" * 50)\n",
    "    \n",
    "    first_5_distances = [ i[0] for i in first_5_distances ]\n",
    "    print(first_5_distances)"
   ]
  },
  {
   "cell_type": "code",
   "execution_count": 8,
   "id": "0191ab6d",
   "metadata": {},
   "outputs": [
    {
     "name": "stdout",
     "output_type": "stream",
     "text": [
      "[((1, 1), 1.4142135623730951), ((0, 2), 2.0), ((3, 4), 5.0), ((2, 7), 7.280109889280518), ((7, 3), 7.615773105863909), ((5, 6), 7.810249675906654), ((9, 1), 9.055385138137417), ((3, 9), 9.486832980505138)]\n",
      "--------------------------------------------------\n",
      "[((1, 1), 1.4142135623730951), ((0, 2), 2.0), ((3, 4), 5.0), ((2, 7), 7.280109889280518), ((7, 3), 7.615773105863909)]\n",
      "--------------------------------------------------\n",
      "[(1, 1), (0, 2), (3, 4), (2, 7), (7, 3)]\n"
     ]
    }
   ],
   "source": [
    "closest_points(start, coordinates)"
   ]
  },
  {
   "cell_type": "code",
   "execution_count": 9,
   "id": "ff02b30f",
   "metadata": {},
   "outputs": [],
   "source": [
    "from functools import reduce\n",
    "\n",
    "array = {1, 2, 3}\n",
    "\n",
    "reduce(lambda P, x: P + [subset | {x} for subset in P], array, [set()])"
   ]
  },
  {
   "cell_type": "code",
   "execution_count": 12,
   "id": "bc71e32f",
   "metadata": {},
   "outputs": [
    {
     "data": {
      "text/plain": [
       "'\\nFirst Iteration ->\\nP = [set()]\\nx = 1\\n\\n    - [set()] + [set() | {1}] = [set()] + [{1}] = [set(), {1}]\\n    - P = [set(), {1}]\\n    \\nSecond Iteration ->\\nP = [set(), {1}]\\nx = 2\\n\\n    - [set(), {1}] + [{2}, {1, 2}] = [set(), {1}, {2}, {1, 2}]\\n    - P = [set(), {1}, {2}, {1, 2}]\\n.\\n.\\n.\\n'"
      ]
     },
     "execution_count": 12,
     "metadata": {},
     "output_type": "execute_result"
    }
   ],
   "source": [
    "'''\n",
    "First Iteration ->\n",
    "P = [set()]\n",
    "x = 1\n",
    "\n",
    "    - [set()] + [set() | {1}] = [set()] + [{1}] = [set(), {1}]\n",
    "    - P = [set(), {1}]\n",
    "    \n",
    "Second Iteration ->\n",
    "P = [set(), {1}]\n",
    "x = 2\n",
    "\n",
    "    - [set(), {1}] + [{2}, {1, 2}] = [set(), {1}, {2}, {1, 2}]\n",
    "    - P = [set(), {1}, {2}, {1, 2}]\n",
    ".\n",
    ".\n",
    ".\n",
    "'''"
   ]
  },
  {
   "cell_type": "code",
   "execution_count": 15,
   "id": "415e4054",
   "metadata": {},
   "outputs": [],
   "source": [
    "def timeHandle(a,b,c,d):\n",
    "    class Spanoftime:\n",
    "        def __init__(self,h,m):\n",
    "            self.h = h\n",
    "            self.m = m\n",
    "            \n",
    "        def displayTime(self):\n",
    "            return (\"{} hours and {} min\".format(self.h, self.m))\n",
    "        \n",
    "        def addTime(t1, t2):\n",
    "            total_hours = t1.h + t2.h\n",
    "            total_minutes = t1.m + t2.m\n",
    "            \n",
    "            total_hours = total_hours + total_minutes // 60\n",
    "            total_minutes = total_minutes % 60\n",
    "            \n",
    "            return Spanoftime(total_hours, total_minutes)\n",
    "            \n",
    "        def returnMinutes(t1, t2):\n",
    "            total_hours = t1.h + t2.h\n",
    "            total_minutes = t1.m + t2.m + total_hours * 60\n",
    "            \n",
    "            return total_minutes\n",
    "        \n",
    "    t1 = Spanoftime(a,b)\n",
    "    t2 = Spanoftime(c,d)\n",
    "    t3 = Spanoftime.addTime(t1,t2)\n",
    "    t3.displayTime()\n",
    "    totalmin = str(Spanoftime.returnMinutes(t1,t2))\n",
    "    return t3.displayTime(),(\"The total minutes in time t1 and t2 are: \" + totalmin)"
   ]
  },
  {
   "cell_type": "code",
   "execution_count": 16,
   "id": "12c13424",
   "metadata": {},
   "outputs": [
    {
     "data": {
      "text/plain": [
       "('12 hours and 35 min', 'The total minutes in time t1 and t2 are: 755')"
      ]
     },
     "execution_count": 16,
     "metadata": {},
     "output_type": "execute_result"
    }
   ],
   "source": [
    "timeHandle(5, 45, 6, 50)"
   ]
  },
  {
   "cell_type": "code",
   "execution_count": 17,
   "id": "5c7a2910",
   "metadata": {},
   "outputs": [
    {
     "name": "stdout",
     "output_type": "stream",
     "text": [
      "test of child1 called, test of child2 called, test of parent called, "
     ]
    }
   ],
   "source": [
    "class Parent:\n",
    "    def test(self):\n",
    "        print(\"test of parent called\", end=\", \")\n",
    "class Child1(Parent):\n",
    "    def test(self):\n",
    "        print(\"test of child1 called\", end=\", \")\n",
    "        super().test()\n",
    "class Child2(Parent):\n",
    "    def test(self):\n",
    "        print(\"test of child2 called\", end=\", \")\n",
    "        super().test()\n",
    "class Brother(Child1,Child2):\n",
    "    def test2(self):\n",
    "        print(\"test of Brother called\", end=\", \" )\n",
    "\n",
    "obj= Brother()\n",
    "obj.test()"
   ]
  },
  {
   "cell_type": "code",
   "execution_count": null,
   "id": "d2ef3dd4",
   "metadata": {},
   "outputs": [],
   "source": []
  }
 ],
 "metadata": {
  "kernelspec": {
   "display_name": "Python 3 (ipykernel)",
   "language": "python",
   "name": "python3"
  },
  "language_info": {
   "codemirror_mode": {
    "name": "ipython",
    "version": 3
   },
   "file_extension": ".py",
   "mimetype": "text/x-python",
   "name": "python",
   "nbconvert_exporter": "python",
   "pygments_lexer": "ipython3",
   "version": "3.9.5"
  }
 },
 "nbformat": 4,
 "nbformat_minor": 5
}
