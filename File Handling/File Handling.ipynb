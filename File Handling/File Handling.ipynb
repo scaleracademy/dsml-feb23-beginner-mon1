{
 "cells": [
  {
   "cell_type": "markdown",
   "id": "e57fa710",
   "metadata": {},
   "source": [
    "# <center>Working with Files</center>"
   ]
  },
  {
   "cell_type": "markdown",
   "id": "7bf9ead2",
   "metadata": {},
   "source": [
    "## File Access Modes\n",
    "\n",
    ">Access modes govern the type of operations possible in the opened file. It refers to how the file will be used once its opened. These modes also define the location of the File Handle in the file. File handle is like a cursor, which defines from where the data has to be read or written in the file. There are 6 access modes in python.\n",
    "\n",
    "- `Read Only (‘r’)` : Open text file for reading. The handle is positioned at the beginning of the file. If the file does not exists, raises I/O error. This is also the default mode in which file is opened.\n",
    "\n",
    "\n",
    "- `Read and Write (‘r+’)` : Open the file for reading and writing. The handle is positioned at the beginning of the file. Raises I/O error if the file does not exists.\n",
    "\n",
    "\n",
    "- `Write Only (‘w’)` : Open the file for writing. For existing file, the data is truncated and over-written. The handle is positioned at the beginning of the file. Creates the file if the file does not exists.\n",
    "\n",
    "\n",
    "- `Write and Read (‘w+’)` : Open the file for reading and writing. For existing file, data is truncated and over-written. The handle is positioned at the beginning of the file.\n",
    "\n",
    "\n",
    "- `Append Only (‘a’)` : Open the file for writing. The file is created if it does not exist. The handle is positioned at the end of the file. The data being written will be inserted at the end, after the existing data.\n",
    "\n",
    "\n",
    "- `Append and Read (‘a+’)` : Open the file for reading and writing. The file is created if it does not exist. The handle is positioned at the end of the file. The data being written will be inserted at the end, after the existing data."
   ]
  },
  {
   "cell_type": "markdown",
   "id": "52edf9b6",
   "metadata": {},
   "source": [
    "### Opening a file\n",
    "\n",
    "- `var_name = open(\"file_name\", \"access_mode\")` -> Open a file in the given access mode"
   ]
  },
  {
   "cell_type": "code",
   "execution_count": 1,
   "id": "a3db269c",
   "metadata": {},
   "outputs": [],
   "source": [
    "file = open(\"sample.txt\", \"r+\")"
   ]
  },
  {
   "cell_type": "code",
   "execution_count": 2,
   "id": "f7e4ffd8",
   "metadata": {},
   "outputs": [
    {
     "ename": "FileNotFoundError",
     "evalue": "[Errno 2] No such file or directory: 'random.txt'",
     "output_type": "error",
     "traceback": [
      "\u001b[0;31m---------------------------------------------------------------------------\u001b[0m",
      "\u001b[0;31mFileNotFoundError\u001b[0m                         Traceback (most recent call last)",
      "Cell \u001b[0;32mIn[2], line 1\u001b[0m\n\u001b[0;32m----> 1\u001b[0m file2 \u001b[38;5;241m=\u001b[39m \u001b[38;5;28;43mopen\u001b[39;49m\u001b[43m(\u001b[49m\u001b[38;5;124;43m\"\u001b[39;49m\u001b[38;5;124;43mrandom.txt\u001b[39;49m\u001b[38;5;124;43m\"\u001b[39;49m\u001b[43m,\u001b[49m\u001b[43m \u001b[49m\u001b[38;5;124;43m\"\u001b[39;49m\u001b[38;5;124;43mr+\u001b[39;49m\u001b[38;5;124;43m\"\u001b[39;49m\u001b[43m)\u001b[49m\n",
      "File \u001b[0;32m~/Library/Python/3.9/lib/python/site-packages/IPython/core/interactiveshell.py:284\u001b[0m, in \u001b[0;36m_modified_open\u001b[0;34m(file, *args, **kwargs)\u001b[0m\n\u001b[1;32m    277\u001b[0m \u001b[38;5;28;01mif\u001b[39;00m file \u001b[38;5;129;01min\u001b[39;00m {\u001b[38;5;241m0\u001b[39m, \u001b[38;5;241m1\u001b[39m, \u001b[38;5;241m2\u001b[39m}:\n\u001b[1;32m    278\u001b[0m     \u001b[38;5;28;01mraise\u001b[39;00m \u001b[38;5;167;01mValueError\u001b[39;00m(\n\u001b[1;32m    279\u001b[0m         \u001b[38;5;124mf\u001b[39m\u001b[38;5;124m\"\u001b[39m\u001b[38;5;124mIPython won\u001b[39m\u001b[38;5;124m'\u001b[39m\u001b[38;5;124mt let you open fd=\u001b[39m\u001b[38;5;132;01m{\u001b[39;00mfile\u001b[38;5;132;01m}\u001b[39;00m\u001b[38;5;124m by default \u001b[39m\u001b[38;5;124m\"\u001b[39m\n\u001b[1;32m    280\u001b[0m         \u001b[38;5;124m\"\u001b[39m\u001b[38;5;124mas it is likely to crash IPython. If you know what you are doing, \u001b[39m\u001b[38;5;124m\"\u001b[39m\n\u001b[1;32m    281\u001b[0m         \u001b[38;5;124m\"\u001b[39m\u001b[38;5;124myou can use builtins\u001b[39m\u001b[38;5;124m'\u001b[39m\u001b[38;5;124m open.\u001b[39m\u001b[38;5;124m\"\u001b[39m\n\u001b[1;32m    282\u001b[0m     )\n\u001b[0;32m--> 284\u001b[0m \u001b[38;5;28;01mreturn\u001b[39;00m \u001b[43mio_open\u001b[49m\u001b[43m(\u001b[49m\u001b[43mfile\u001b[49m\u001b[43m,\u001b[49m\u001b[43m \u001b[49m\u001b[38;5;241;43m*\u001b[39;49m\u001b[43margs\u001b[49m\u001b[43m,\u001b[49m\u001b[43m \u001b[49m\u001b[38;5;241;43m*\u001b[39;49m\u001b[38;5;241;43m*\u001b[39;49m\u001b[43mkwargs\u001b[49m\u001b[43m)\u001b[49m\n",
      "\u001b[0;31mFileNotFoundError\u001b[0m: [Errno 2] No such file or directory: 'random.txt'"
     ]
    }
   ],
   "source": [
    "file2 = open(\"random.txt\", \"r+\")"
   ]
  },
  {
   "cell_type": "code",
   "execution_count": 3,
   "id": "10861534",
   "metadata": {},
   "outputs": [],
   "source": [
    "file2 = open(\"random.txt\", \"w+\")"
   ]
  },
  {
   "cell_type": "code",
   "execution_count": 4,
   "id": "8057d86b",
   "metadata": {},
   "outputs": [],
   "source": [
    "file.close()"
   ]
  },
  {
   "cell_type": "code",
   "execution_count": 5,
   "id": "678e0578",
   "metadata": {},
   "outputs": [],
   "source": [
    "file2.close()"
   ]
  },
  {
   "cell_type": "markdown",
   "id": "5d4f6dfe",
   "metadata": {},
   "source": [
    "### Writing to a file\n",
    "\n",
    "- `var_name.write(\"text\")` -> Write some text to a file\n",
    "- `var_name.writelines(iterable)` -> Write multiple text strings to a file"
   ]
  },
  {
   "cell_type": "code",
   "execution_count": 7,
   "id": "c23bd00b",
   "metadata": {},
   "outputs": [],
   "source": [
    "file = open(\"sample.txt\", \"w+\")"
   ]
  },
  {
   "cell_type": "code",
   "execution_count": 8,
   "id": "5c09d3da",
   "metadata": {},
   "outputs": [
    {
     "data": {
      "text/plain": [
       "101"
      ]
     },
     "execution_count": 8,
     "metadata": {},
     "output_type": "execute_result"
    }
   ],
   "source": [
    "file.write(\"This is a random text that is being written in the file by a random person trying to do random stuff!\")"
   ]
  },
  {
   "cell_type": "code",
   "execution_count": 9,
   "id": "12c44cd6",
   "metadata": {},
   "outputs": [],
   "source": [
    "file.close()"
   ]
  },
  {
   "cell_type": "code",
   "execution_count": 10,
   "id": "e76208ea",
   "metadata": {},
   "outputs": [],
   "source": [
    "file = open(\"sample2.txt\", \"w+\")"
   ]
  },
  {
   "cell_type": "code",
   "execution_count": 11,
   "id": "47e3479b",
   "metadata": {},
   "outputs": [],
   "source": [
    "file.writelines([\"Line 1\\n\", \"Line 2\\n\", \"Line 3\\n\"])"
   ]
  },
  {
   "cell_type": "code",
   "execution_count": 12,
   "id": "a54dee30",
   "metadata": {},
   "outputs": [],
   "source": [
    "file.close()"
   ]
  },
  {
   "cell_type": "markdown",
   "id": "9dca9eb1",
   "metadata": {},
   "source": [
    "### Reading from a file\n",
    "- read -> Reads everything at once\n",
    "- readline\n",
    "- readlines"
   ]
  },
  {
   "cell_type": "code",
   "execution_count": 13,
   "id": "319aba85",
   "metadata": {},
   "outputs": [],
   "source": [
    "file = open(\"sample.txt\", \"r+\")"
   ]
  },
  {
   "cell_type": "code",
   "execution_count": 14,
   "id": "d3f87c80",
   "metadata": {},
   "outputs": [
    {
     "data": {
      "text/plain": [
       "'This is a random text that is being written in the file by a random person trying to do random stuff!'"
      ]
     },
     "execution_count": 14,
     "metadata": {},
     "output_type": "execute_result"
    }
   ],
   "source": [
    "file.read()"
   ]
  },
  {
   "cell_type": "code",
   "execution_count": 15,
   "id": "56356e63",
   "metadata": {},
   "outputs": [],
   "source": [
    "file.close()"
   ]
  },
  {
   "cell_type": "code",
   "execution_count": 18,
   "id": "a8ff4761",
   "metadata": {},
   "outputs": [],
   "source": [
    "file2 = open(\"sample2.txt\", \"r+\")"
   ]
  },
  {
   "cell_type": "code",
   "execution_count": 19,
   "id": "13210e05",
   "metadata": {},
   "outputs": [
    {
     "data": {
      "text/plain": [
       "'Line 1\\nLine 2\\nLine 3\\n'"
      ]
     },
     "execution_count": 19,
     "metadata": {},
     "output_type": "execute_result"
    }
   ],
   "source": [
    "file2.read()"
   ]
  },
  {
   "cell_type": "code",
   "execution_count": 20,
   "id": "3a8b5cbc",
   "metadata": {},
   "outputs": [
    {
     "data": {
      "text/plain": [
       "''"
      ]
     },
     "execution_count": 20,
     "metadata": {},
     "output_type": "execute_result"
    }
   ],
   "source": [
    "file2.read()"
   ]
  },
  {
   "cell_type": "code",
   "execution_count": 21,
   "id": "3451148b",
   "metadata": {},
   "outputs": [],
   "source": [
    "file2.close()"
   ]
  },
  {
   "cell_type": "code",
   "execution_count": 22,
   "id": "b40ba5c1",
   "metadata": {},
   "outputs": [],
   "source": [
    "# Reading content line by line"
   ]
  },
  {
   "cell_type": "code",
   "execution_count": 23,
   "id": "cae14fc1",
   "metadata": {},
   "outputs": [],
   "source": [
    "file2 = open(\"sample2.txt\", \"r+\")"
   ]
  },
  {
   "cell_type": "code",
   "execution_count": 24,
   "id": "332b57a8",
   "metadata": {},
   "outputs": [
    {
     "data": {
      "text/plain": [
       "'Line 1\\n'"
      ]
     },
     "execution_count": 24,
     "metadata": {},
     "output_type": "execute_result"
    }
   ],
   "source": [
    "file2.readline()"
   ]
  },
  {
   "cell_type": "code",
   "execution_count": 25,
   "id": "97d331cf",
   "metadata": {},
   "outputs": [
    {
     "data": {
      "text/plain": [
       "'Line 2\\n'"
      ]
     },
     "execution_count": 25,
     "metadata": {},
     "output_type": "execute_result"
    }
   ],
   "source": [
    "file2.readline()"
   ]
  },
  {
   "cell_type": "code",
   "execution_count": 26,
   "id": "6d6b965f",
   "metadata": {},
   "outputs": [
    {
     "data": {
      "text/plain": [
       "'Line 3\\n'"
      ]
     },
     "execution_count": 26,
     "metadata": {},
     "output_type": "execute_result"
    }
   ],
   "source": [
    "file2.readline()"
   ]
  },
  {
   "cell_type": "code",
   "execution_count": 27,
   "id": "0e470fe5",
   "metadata": {},
   "outputs": [
    {
     "data": {
      "text/plain": [
       "''"
      ]
     },
     "execution_count": 27,
     "metadata": {},
     "output_type": "execute_result"
    }
   ],
   "source": [
    "file2.readline()"
   ]
  },
  {
   "cell_type": "code",
   "execution_count": 28,
   "id": "5cad9845",
   "metadata": {},
   "outputs": [],
   "source": [
    "file2.close()"
   ]
  },
  {
   "cell_type": "code",
   "execution_count": 29,
   "id": "69c5f180",
   "metadata": {},
   "outputs": [],
   "source": [
    "file2 = open(\"sample2.txt\", \"r+\")"
   ]
  },
  {
   "cell_type": "code",
   "execution_count": 30,
   "id": "b8642611",
   "metadata": {},
   "outputs": [
    {
     "data": {
      "text/plain": [
       "['Line 1\\n', 'Line 2\\n', 'Line 3\\n']"
      ]
     },
     "execution_count": 30,
     "metadata": {},
     "output_type": "execute_result"
    }
   ],
   "source": [
    "file2.readlines()"
   ]
  },
  {
   "cell_type": "code",
   "execution_count": 32,
   "id": "a8c85151",
   "metadata": {},
   "outputs": [],
   "source": [
    "file2.close()"
   ]
  },
  {
   "cell_type": "code",
   "execution_count": 38,
   "id": "c6645c4a",
   "metadata": {},
   "outputs": [
    {
     "name": "stdout",
     "output_type": "stream",
     "text": [
      "Line 1\n",
      "Line 2\n",
      "Line 3\n"
     ]
    }
   ],
   "source": [
    "# OPTION 1 -> GOOD ONLY FOR LOADING SMALL FILES\n",
    "# file.read() -> Not great for bigger files\n",
    "\n",
    "file = open(\"sample2.txt\", \"r+\")\n",
    "\n",
    "for line in file.readlines():\n",
    "    print(line, end = \"\")\n",
    "    \n",
    "file.close()"
   ]
  },
  {
   "cell_type": "code",
   "execution_count": 39,
   "id": "76d80fba",
   "metadata": {},
   "outputs": [
    {
     "name": "stdout",
     "output_type": "stream",
     "text": [
      "Line 1\n",
      "Line 2\n",
      "Line 3\n"
     ]
    }
   ],
   "source": [
    "# OPTION 2 -> BETTER WAY FOR LOADING LARGER FILES\n",
    "\n",
    "file = open(\"sample2.txt\", \"r+\")\n",
    "line = file.readline()\n",
    "\n",
    "while line:\n",
    "    print(line, end = \"\")\n",
    "    line = file.readline()\n",
    "    \n",
    "file.close()"
   ]
  },
  {
   "cell_type": "code",
   "execution_count": 41,
   "id": "853cb717",
   "metadata": {},
   "outputs": [
    {
     "name": "stdout",
     "output_type": "stream",
     "text": [
      "Line 1\n",
      "Line 2\n",
      "Line 3\n"
     ]
    }
   ],
   "source": [
    "file = open(\"sample2.txt\", \"r+\")\n",
    "\n",
    "while True:\n",
    "    line = file.readline()\n",
    "    \n",
    "    if not line:\n",
    "        break\n",
    "    \n",
    "    print(line, end = \"\")\n",
    "    \n",
    "file.close()"
   ]
  },
  {
   "cell_type": "code",
   "execution_count": 42,
   "id": "f5848b2c",
   "metadata": {},
   "outputs": [],
   "source": [
    "# IN CASE THE FILE DOES NOT CONTAIN PROPER LINE BREAKS"
   ]
  },
  {
   "cell_type": "code",
   "execution_count": 46,
   "id": "a0c5ff73",
   "metadata": {},
   "outputs": [],
   "source": [
    "file = open(\"long_sample.txt\", \"r+\")"
   ]
  },
  {
   "cell_type": "code",
   "execution_count": 47,
   "id": "072be6f1",
   "metadata": {},
   "outputs": [
    {
     "name": "stdout",
     "output_type": "stream",
     "text": [
      "Contrary to popular \n",
      "belief, Lorem Ipsum \n",
      "is not simply random\n",
      " text.\n",
      " It has roots\n",
      " in a piece of class\n",
      "ical Latin literatur\n",
      "e from 45 BC, making\n",
      " it over 2000\n",
      " years\n",
      " old. Richard McClin\n",
      "tock, a Latin profes\n",
      "sor at Hampden-Sydne\n",
      "y College in\n",
      " Virgin\n",
      "ia, looked up one of\n",
      " the more obscure La\n",
      "tin words, consectet\n",
      "ur\n",
      ", from a Lorem Ip\n",
      "sum passage, and goi\n",
      "ng through the cites\n",
      " of the word in clas\n",
      "sical literature,\n",
      " d\n",
      "iscovered the undoub\n",
      "table source.\n",
      " Lorem\n",
      " Ipsum comes from se\n",
      "ctions 1.10.32 and 1\n",
      ".10.33 of \"de Finibu\n",
      "s Bonorum et Malorum\n",
      "\" (The Extremes of G\n",
      "ood and Evil) by Cic\n",
      "ero, written in 45 B\n",
      "C.\n",
      " This book is a t\n",
      "reatise on the theor\n",
      "y of ethics, very po\n",
      "pular during the Ren\n",
      "aissance.\n",
      " The first\n",
      " line of Lorem Ipsum\n",
      ", \"Lorem ipsum dolor\n",
      " sit amet..\", comes \n",
      "from a line in secti\n",
      "on 1.10.32.\n"
     ]
    }
   ],
   "source": [
    "while True:\n",
    "    chunk = file.read(20) # 50 is my chunk size -> 50 characters at a time\n",
    "    \n",
    "    if not chunk:\n",
    "        break\n",
    "    \n",
    "    print(chunk)"
   ]
  },
  {
   "cell_type": "code",
   "execution_count": 48,
   "id": "3dd8c409",
   "metadata": {},
   "outputs": [],
   "source": [
    "file.close()"
   ]
  },
  {
   "cell_type": "code",
   "execution_count": null,
   "id": "92e29940",
   "metadata": {},
   "outputs": [],
   "source": [
    "# WORKING WITH IMAGES!"
   ]
  },
  {
   "cell_type": "code",
   "execution_count": 49,
   "id": "664bac1d",
   "metadata": {},
   "outputs": [],
   "source": [
    "source = open(\"sample.jpeg\", \"rb+\") # \"b\" represents binary filetype -> NON TEXT FILES"
   ]
  },
  {
   "cell_type": "code",
   "execution_count": 50,
   "id": "5ff4661a",
   "metadata": {},
   "outputs": [],
   "source": [
    "destination = open(\"sample_copy.jpeg\", \"wb+\")"
   ]
  },
  {
   "cell_type": "code",
   "execution_count": 51,
   "id": "0c07219d",
   "metadata": {},
   "outputs": [],
   "source": [
    "while True:\n",
    "    chunk = source.read(256)\n",
    "    \n",
    "    if not chunk:\n",
    "        break\n",
    "    \n",
    "    destination.write(chunk)\n",
    "    \n",
    "source.close()\n",
    "destination.close()"
   ]
  },
  {
   "cell_type": "markdown",
   "id": "68fce312",
   "metadata": {},
   "source": [
    "### Moving the cursor\n",
    "\n",
    "- seek(n) : takes the file read handle to the nth byte from the beginning."
   ]
  },
  {
   "cell_type": "code",
   "execution_count": 52,
   "id": "4bdf6281",
   "metadata": {},
   "outputs": [],
   "source": [
    "file = open(\"sample.txt\", \"r+\")"
   ]
  },
  {
   "cell_type": "code",
   "execution_count": 53,
   "id": "6e0e910d",
   "metadata": {},
   "outputs": [
    {
     "data": {
      "text/plain": [
       "'This is a random text that is being written in the file by a random person trying to do random stuff!'"
      ]
     },
     "execution_count": 53,
     "metadata": {},
     "output_type": "execute_result"
    }
   ],
   "source": [
    "file.read()"
   ]
  },
  {
   "cell_type": "code",
   "execution_count": 54,
   "id": "4b2fabd0",
   "metadata": {},
   "outputs": [
    {
     "data": {
      "text/plain": [
       "''"
      ]
     },
     "execution_count": 54,
     "metadata": {},
     "output_type": "execute_result"
    }
   ],
   "source": [
    "file.read()"
   ]
  },
  {
   "cell_type": "code",
   "execution_count": 55,
   "id": "acfb836f",
   "metadata": {},
   "outputs": [
    {
     "data": {
      "text/plain": [
       "0"
      ]
     },
     "execution_count": 55,
     "metadata": {},
     "output_type": "execute_result"
    }
   ],
   "source": [
    "file.seek(0)"
   ]
  },
  {
   "cell_type": "code",
   "execution_count": 56,
   "id": "ce91d6c4",
   "metadata": {},
   "outputs": [
    {
     "data": {
      "text/plain": [
       "'This is a random text that is being written in the file by a random person trying to do random stuff!'"
      ]
     },
     "execution_count": 56,
     "metadata": {},
     "output_type": "execute_result"
    }
   ],
   "source": [
    "file.read()"
   ]
  },
  {
   "cell_type": "code",
   "execution_count": 57,
   "id": "be272aa2",
   "metadata": {},
   "outputs": [
    {
     "data": {
      "text/plain": [
       "5"
      ]
     },
     "execution_count": 57,
     "metadata": {},
     "output_type": "execute_result"
    }
   ],
   "source": [
    "file.seek(5)"
   ]
  },
  {
   "cell_type": "code",
   "execution_count": 58,
   "id": "70e26cdf",
   "metadata": {},
   "outputs": [
    {
     "data": {
      "text/plain": [
       "'is a rando'"
      ]
     },
     "execution_count": 58,
     "metadata": {},
     "output_type": "execute_result"
    }
   ],
   "source": [
    "file.read(10)"
   ]
  },
  {
   "cell_type": "code",
   "execution_count": 59,
   "id": "27808a48",
   "metadata": {},
   "outputs": [],
   "source": [
    "file.close()"
   ]
  },
  {
   "cell_type": "markdown",
   "id": "37a4180b",
   "metadata": {},
   "source": [
    "### Smarter way of opening files...\n",
    "\n",
    "With the \"with\" statement, you get better syntax and exceptions handling. \n",
    "\n",
    "\"The with statement simplifies exception handling by encapsulating common\n",
    "preparation and cleanup tasks.\"\n",
    "\n",
    "In addition, it will automatically close the file. The with statement provides\n",
    "a way for ensuring that a clean-up is always used.\n"
   ]
  },
  {
   "cell_type": "code",
   "execution_count": 60,
   "id": "a8d97c20",
   "metadata": {},
   "outputs": [
    {
     "name": "stdout",
     "output_type": "stream",
     "text": [
      "Contr\n",
      "Contrary to popular \n",
      "ical \n"
     ]
    },
    {
     "ename": "ValueError",
     "evalue": "I/O operation on closed file.",
     "output_type": "error",
     "traceback": [
      "\u001b[0;31m---------------------------------------------------------------------------\u001b[0m",
      "\u001b[0;31mValueError\u001b[0m                                Traceback (most recent call last)",
      "Cell \u001b[0;32mIn[60], line 9\u001b[0m\n\u001b[1;32m      6\u001b[0m     \u001b[38;5;28mprint\u001b[39m(file\u001b[38;5;241m.\u001b[39mread(\u001b[38;5;241m5\u001b[39m))\n\u001b[1;32m      8\u001b[0m \u001b[38;5;66;03m# The file is not open outside the block\u001b[39;00m\n\u001b[0;32m----> 9\u001b[0m \u001b[43mfile\u001b[49m\u001b[38;5;241;43m.\u001b[39;49m\u001b[43mseek\u001b[49m\u001b[43m(\u001b[49m\u001b[38;5;241;43m20\u001b[39;49m\u001b[43m)\u001b[49m\n",
      "\u001b[0;31mValueError\u001b[0m: I/O operation on closed file."
     ]
    }
   ],
   "source": [
    "with open(\"long_sample.txt\", \"r+\") as file:\n",
    "    print(file.read(5))\n",
    "    file.seek(0)\n",
    "    print(file.read(20))\n",
    "    file.seek(100)\n",
    "    print(file.read(5))\n",
    "    \n",
    "# The file is not open outside the block\n",
    "file.seek(20)"
   ]
  },
  {
   "cell_type": "code",
   "execution_count": 66,
   "id": "16758adf",
   "metadata": {},
   "outputs": [
    {
     "name": "stdout",
     "output_type": "stream",
     "text": [
      "This is a random text that is being written in the file by a random person trying to do random stuff!SOMETHING RANDOM!SOMETHING RANDOM!\n"
     ]
    }
   ],
   "source": [
    "file = open(\"sample.txt\", \"r+\")\n",
    "\n",
    "print(file.read())\n",
    "\n",
    "file.write(\"SOMETHING RANDOM!\")\n",
    "\n",
    "file.close()"
   ]
  },
  {
   "cell_type": "code",
   "execution_count": 68,
   "id": "d1983e7e",
   "metadata": {},
   "outputs": [],
   "source": [
    "file = open(\"sample.txt\", \"r+\")\n",
    "\n",
    "file.write(\"THIS IS WEIRD!\")\n",
    "\n",
    "file.close()"
   ]
  },
  {
   "cell_type": "code",
   "execution_count": 69,
   "id": "4d184097",
   "metadata": {},
   "outputs": [],
   "source": [
    "file = open(\"sample.txt\", \"r+\")\n",
    "\n",
    "file.seek(20)\n",
    "\n",
    "file.write(\"12345\")\n",
    "\n",
    "file.close()"
   ]
  },
  {
   "cell_type": "code",
   "execution_count": 70,
   "id": "b9be415a",
   "metadata": {},
   "outputs": [
    {
     "data": {
      "text/plain": [
       "101"
      ]
     },
     "execution_count": 70,
     "metadata": {},
     "output_type": "execute_result"
    }
   ],
   "source": [
    "file = open(\"sample.txt\", \"w+\")\n",
    "\n",
    "file.write(\"This is a random text that is being written in the file by a random person trying to do random stuff!\")"
   ]
  },
  {
   "cell_type": "code",
   "execution_count": 71,
   "id": "c4629125",
   "metadata": {},
   "outputs": [],
   "source": [
    "file.close()"
   ]
  },
  {
   "cell_type": "code",
   "execution_count": 72,
   "id": "5065081e",
   "metadata": {},
   "outputs": [
    {
     "data": {
      "text/plain": [
       "\"\\nDifferences between r+ and w+ ->\\n\\n    - r+ does not create a new file if it doesn't exist, w+ does\\n    - in r+, only the overlapping characters are overwritten while writing while in w+ the entire file is wiped and written again!\\n\""
      ]
     },
     "execution_count": 72,
     "metadata": {},
     "output_type": "execute_result"
    }
   ],
   "source": [
    "'''\n",
    "Differences between r+ and w+ ->\n",
    "\n",
    "    - r+ does not create a new file if it doesn't exist, w+ does\n",
    "    - in r+, only the overlapping characters are overwritten while writing while in w+ the entire file is wiped and written again!\n",
    "'''"
   ]
  },
  {
   "cell_type": "code",
   "execution_count": null,
   "id": "6c29e08b",
   "metadata": {},
   "outputs": [],
   "source": []
  }
 ],
 "metadata": {
  "kernelspec": {
   "display_name": "Python 3 (ipykernel)",
   "language": "python",
   "name": "python3"
  },
  "language_info": {
   "codemirror_mode": {
    "name": "ipython",
    "version": 3
   },
   "file_extension": ".py",
   "mimetype": "text/x-python",
   "name": "python",
   "nbconvert_exporter": "python",
   "pygments_lexer": "ipython3",
   "version": "3.9.5"
  }
 },
 "nbformat": 4,
 "nbformat_minor": 5
}
