{
 "cells": [
  {
   "cell_type": "code",
   "execution_count": 4,
   "id": "0146ce3a",
   "metadata": {},
   "outputs": [
    {
     "name": "stdout",
     "output_type": "stream",
     "text": [
      "100\n"
     ]
    }
   ],
   "source": [
    "# QUIZ 1\n",
    "\n",
    "x = 0\n",
    "while (x < 100):\n",
    "    x += 2\n",
    "    \n",
    "print(x)"
   ]
  },
  {
   "cell_type": "code",
   "execution_count": 9,
   "id": "c1c3d97c",
   "metadata": {},
   "outputs": [
    {
     "data": {
      "text/plain": [
       "[]"
      ]
     },
     "execution_count": 9,
     "metadata": {},
     "output_type": "execute_result"
    }
   ],
   "source": [
    "# QUIZ 3\n",
    "\n",
    "a = [1,2,3,4,5,6,7,8,9,10]\n",
    "\n",
    "a[3:8:-1]"
   ]
  },
  {
   "cell_type": "code",
   "execution_count": 10,
   "id": "9b2377c9",
   "metadata": {},
   "outputs": [
    {
     "name": "stdout",
     "output_type": "stream",
     "text": [
      "[1, 2, 3, 4] 4\n"
     ]
    }
   ],
   "source": [
    "# QUIZ 4\n",
    "\n",
    "def access(lst, num):\n",
    "    lst.append(num)\n",
    "    num -= 4 # local version of num\n",
    "    return num\n",
    "\n",
    "lst = [1,2,3] # [1,2,3,4] since lists are mutable\n",
    "num = 4 # global version of num\n",
    "\n",
    "access(lst, num)\n",
    "print(lst, num)"
   ]
  },
  {
   "cell_type": "markdown",
   "id": "b7937d17",
   "metadata": {},
   "source": [
    "# LISTS\n",
    "\n",
    "Heterogeneous collection of objects"
   ]
  },
  {
   "cell_type": "code",
   "execution_count": 11,
   "id": "e548a2aa",
   "metadata": {},
   "outputs": [],
   "source": [
    "a = [\"bipin\", 26, 45.8, True, \"PYTHON\", [1,2,3,4]]"
   ]
  },
  {
   "cell_type": "code",
   "execution_count": 12,
   "id": "41e66ab3",
   "metadata": {},
   "outputs": [
    {
     "data": {
      "text/plain": [
       "[1, 2, 3, 4]"
      ]
     },
     "execution_count": 12,
     "metadata": {},
     "output_type": "execute_result"
    }
   ],
   "source": [
    "a[-1]"
   ]
  },
  {
   "cell_type": "code",
   "execution_count": 13,
   "id": "67cc5e69",
   "metadata": {},
   "outputs": [
    {
     "data": {
      "text/plain": [
       "[1, 2, 3, 4]"
      ]
     },
     "execution_count": 13,
     "metadata": {},
     "output_type": "execute_result"
    }
   ],
   "source": [
    "a[len(a) - 1]"
   ]
  },
  {
   "cell_type": "code",
   "execution_count": 14,
   "id": "d542dbdd",
   "metadata": {},
   "outputs": [
    {
     "data": {
      "text/plain": [
       "26"
      ]
     },
     "execution_count": 14,
     "metadata": {},
     "output_type": "execute_result"
    }
   ],
   "source": [
    "a[1]"
   ]
  },
  {
   "cell_type": "code",
   "execution_count": 18,
   "id": "627533d2",
   "metadata": {},
   "outputs": [],
   "source": [
    "a = [\"bipin\", 26, 45.8, True, \"PYTHON\", [1,2,3,4], print]"
   ]
  },
  {
   "cell_type": "code",
   "execution_count": 19,
   "id": "79111f15",
   "metadata": {},
   "outputs": [
    {
     "data": {
      "text/plain": [
       "builtin_function_or_method"
      ]
     },
     "execution_count": 19,
     "metadata": {},
     "output_type": "execute_result"
    }
   ],
   "source": [
    "type(a[-1])"
   ]
  },
  {
   "cell_type": "code",
   "execution_count": 21,
   "id": "a742c894",
   "metadata": {},
   "outputs": [
    {
     "name": "stdout",
     "output_type": "stream",
     "text": [
      "THIS IS A WEIRD WAY TO CALL THE PRINT FUNCTION!\n"
     ]
    }
   ],
   "source": [
    "a[-1](\"THIS IS A WEIRD WAY TO CALL THE PRINT FUNCTION!\")\n",
    "\n",
    "# print(\"THIS IS A WEIRD WAY TO CALL THE PRINT FUNCTION!\")"
   ]
  },
  {
   "cell_type": "code",
   "execution_count": 22,
   "id": "e15d71bf",
   "metadata": {},
   "outputs": [],
   "source": [
    "a = list(range(1, 11))"
   ]
  },
  {
   "cell_type": "code",
   "execution_count": 23,
   "id": "a24637ec",
   "metadata": {},
   "outputs": [
    {
     "data": {
      "text/plain": [
       "[1, 2, 3, 4, 5, 6, 7, 8, 9, 10]"
      ]
     },
     "execution_count": 23,
     "metadata": {},
     "output_type": "execute_result"
    }
   ],
   "source": [
    "a"
   ]
  },
  {
   "cell_type": "code",
   "execution_count": 27,
   "id": "2b24e6e4",
   "metadata": {},
   "outputs": [
    {
     "data": {
      "text/plain": [
       "[3, 4, 5, 6]"
      ]
     },
     "execution_count": 27,
     "metadata": {},
     "output_type": "execute_result"
    }
   ],
   "source": [
    "a[2:-4]"
   ]
  },
  {
   "cell_type": "code",
   "execution_count": 28,
   "id": "d310a86e",
   "metadata": {},
   "outputs": [
    {
     "data": {
      "text/plain": [
       "[1, 2, 3, 4, 5, 6, 7, 8, 9, 10]"
      ]
     },
     "execution_count": 28,
     "metadata": {},
     "output_type": "execute_result"
    }
   ],
   "source": [
    "a"
   ]
  },
  {
   "cell_type": "code",
   "execution_count": 29,
   "id": "81364356",
   "metadata": {},
   "outputs": [
    {
     "data": {
      "text/plain": [
       "[1, 2, 3, 4, 5]"
      ]
     },
     "execution_count": 29,
     "metadata": {},
     "output_type": "execute_result"
    }
   ],
   "source": [
    "a[:5]"
   ]
  },
  {
   "cell_type": "code",
   "execution_count": 30,
   "id": "e228367f",
   "metadata": {},
   "outputs": [
    {
     "data": {
      "text/plain": [
       "[6, 7, 8, 9, 10]"
      ]
     },
     "execution_count": 30,
     "metadata": {},
     "output_type": "execute_result"
    }
   ],
   "source": [
    "a[5:]"
   ]
  },
  {
   "cell_type": "code",
   "execution_count": 31,
   "id": "918cacaa",
   "metadata": {},
   "outputs": [
    {
     "data": {
      "text/plain": [
       "[10, 9, 8, 7, 6, 5, 4, 3, 2, 1]"
      ]
     },
     "execution_count": 31,
     "metadata": {},
     "output_type": "execute_result"
    }
   ],
   "source": [
    "a[::-1]"
   ]
  },
  {
   "cell_type": "code",
   "execution_count": 32,
   "id": "4f8d9778",
   "metadata": {},
   "outputs": [
    {
     "data": {
      "text/plain": [
       "55"
      ]
     },
     "execution_count": 32,
     "metadata": {},
     "output_type": "execute_result"
    }
   ],
   "source": [
    "sum(a)"
   ]
  },
  {
   "cell_type": "code",
   "execution_count": 33,
   "id": "3bc15b0d",
   "metadata": {},
   "outputs": [
    {
     "data": {
      "text/plain": [
       "10"
      ]
     },
     "execution_count": 33,
     "metadata": {},
     "output_type": "execute_result"
    }
   ],
   "source": [
    "max(a)"
   ]
  },
  {
   "cell_type": "code",
   "execution_count": 34,
   "id": "d899dfd9",
   "metadata": {},
   "outputs": [
    {
     "data": {
      "text/plain": [
       "1"
      ]
     },
     "execution_count": 34,
     "metadata": {},
     "output_type": "execute_result"
    }
   ],
   "source": [
    "min(a)"
   ]
  },
  {
   "cell_type": "code",
   "execution_count": 36,
   "id": "db762c2b",
   "metadata": {},
   "outputs": [
    {
     "data": {
      "text/plain": [
       "10"
      ]
     },
     "execution_count": 36,
     "metadata": {},
     "output_type": "execute_result"
    }
   ],
   "source": [
    "len(a)"
   ]
  },
  {
   "cell_type": "code",
   "execution_count": 37,
   "id": "256dd44f",
   "metadata": {},
   "outputs": [],
   "source": [
    "a = [\"bipin\", 5, True, \"random\", [1,2,3]]"
   ]
  },
  {
   "cell_type": "code",
   "execution_count": 38,
   "id": "b5504bc5",
   "metadata": {},
   "outputs": [
    {
     "ename": "TypeError",
     "evalue": "'>' not supported between instances of 'int' and 'str'",
     "output_type": "error",
     "traceback": [
      "\u001b[0;31m---------------------------------------------------------------------------\u001b[0m",
      "\u001b[0;31mTypeError\u001b[0m                                 Traceback (most recent call last)",
      "Cell \u001b[0;32mIn[38], line 1\u001b[0m\n\u001b[0;32m----> 1\u001b[0m \u001b[38;5;28;43mmax\u001b[39;49m\u001b[43m(\u001b[49m\u001b[43ma\u001b[49m\u001b[43m)\u001b[49m\n",
      "\u001b[0;31mTypeError\u001b[0m: '>' not supported between instances of 'int' and 'str'"
     ]
    }
   ],
   "source": [
    "max(a)"
   ]
  },
  {
   "cell_type": "code",
   "execution_count": 39,
   "id": "069febf5",
   "metadata": {},
   "outputs": [
    {
     "ename": "TypeError",
     "evalue": "unsupported operand type(s) for +: 'int' and 'str'",
     "output_type": "error",
     "traceback": [
      "\u001b[0;31m---------------------------------------------------------------------------\u001b[0m",
      "\u001b[0;31mTypeError\u001b[0m                                 Traceback (most recent call last)",
      "Cell \u001b[0;32mIn[39], line 1\u001b[0m\n\u001b[0;32m----> 1\u001b[0m \u001b[38;5;28;43msum\u001b[39;49m\u001b[43m(\u001b[49m\u001b[43ma\u001b[49m\u001b[43m)\u001b[49m\n",
      "\u001b[0;31mTypeError\u001b[0m: unsupported operand type(s) for +: 'int' and 'str'"
     ]
    }
   ],
   "source": [
    "sum(a)"
   ]
  },
  {
   "cell_type": "code",
   "execution_count": 44,
   "id": "2a48a67f",
   "metadata": {},
   "outputs": [],
   "source": [
    "a = [\"bipin\", \"kalra\", \"is\", \"teaching\", \"python\"]"
   ]
  },
  {
   "cell_type": "code",
   "execution_count": 45,
   "id": "53f16357",
   "metadata": {},
   "outputs": [
    {
     "data": {
      "text/plain": [
       "'teaching'"
      ]
     },
     "execution_count": 45,
     "metadata": {},
     "output_type": "execute_result"
    }
   ],
   "source": [
    "max(a)"
   ]
  },
  {
   "cell_type": "code",
   "execution_count": 46,
   "id": "1a35346a",
   "metadata": {},
   "outputs": [
    {
     "data": {
      "text/plain": [
       "True"
      ]
     },
     "execution_count": 46,
     "metadata": {},
     "output_type": "execute_result"
    }
   ],
   "source": [
    "\"bipin\" < \"kalra\""
   ]
  },
  {
   "cell_type": "code",
   "execution_count": 48,
   "id": "517ce4dd",
   "metadata": {},
   "outputs": [
    {
     "data": {
      "text/plain": [
       "['bipin', 'kalra', 'is', 'teaching', 'python']"
      ]
     },
     "execution_count": 48,
     "metadata": {},
     "output_type": "execute_result"
    }
   ],
   "source": [
    "a"
   ]
  },
  {
   "cell_type": "code",
   "execution_count": 49,
   "id": "ef306354",
   "metadata": {},
   "outputs": [
    {
     "data": {
      "text/plain": [
       "[1, 2, 3, 4, 5, 'python', 'cool']"
      ]
     },
     "execution_count": 49,
     "metadata": {},
     "output_type": "execute_result"
    }
   ],
   "source": [
    "[1,2,3,4,5] + [\"python\", \"cool\"] # Concatenation"
   ]
  },
  {
   "cell_type": "code",
   "execution_count": 51,
   "id": "4c175ff7",
   "metadata": {},
   "outputs": [
    {
     "data": {
      "text/plain": [
       "[1, 2, 3, 1, 2, 3, 1, 2, 3]"
      ]
     },
     "execution_count": 51,
     "metadata": {},
     "output_type": "execute_result"
    }
   ],
   "source": [
    "[1,2,3] * 3 # Repeats the same elements n times"
   ]
  },
  {
   "cell_type": "code",
   "execution_count": 52,
   "id": "e8c213ae",
   "metadata": {},
   "outputs": [
    {
     "ename": "TypeError",
     "evalue": "unsupported operand type(s) for -: 'list' and 'list'",
     "output_type": "error",
     "traceback": [
      "\u001b[0;31m---------------------------------------------------------------------------\u001b[0m",
      "\u001b[0;31mTypeError\u001b[0m                                 Traceback (most recent call last)",
      "Cell \u001b[0;32mIn[52], line 1\u001b[0m\n\u001b[0;32m----> 1\u001b[0m \u001b[43m[\u001b[49m\u001b[38;5;241;43m1\u001b[39;49m\u001b[43m,\u001b[49m\u001b[38;5;241;43m2\u001b[39;49m\u001b[43m,\u001b[49m\u001b[38;5;241;43m3\u001b[39;49m\u001b[43m,\u001b[49m\u001b[38;5;241;43m4\u001b[39;49m\u001b[43m,\u001b[49m\u001b[38;5;241;43m5\u001b[39;49m\u001b[43m]\u001b[49m\u001b[43m \u001b[49m\u001b[38;5;241;43m-\u001b[39;49m\u001b[43m \u001b[49m\u001b[43m[\u001b[49m\u001b[38;5;241;43m1\u001b[39;49m\u001b[43m,\u001b[49m\u001b[38;5;241;43m2\u001b[39;49m\u001b[43m,\u001b[49m\u001b[38;5;241;43m3\u001b[39;49m\u001b[43m]\u001b[49m\n",
      "\u001b[0;31mTypeError\u001b[0m: unsupported operand type(s) for -: 'list' and 'list'"
     ]
    }
   ],
   "source": [
    "[1,2,3,4,5] - [1,2,3]"
   ]
  },
  {
   "cell_type": "code",
   "execution_count": 53,
   "id": "8eeda782",
   "metadata": {},
   "outputs": [
    {
     "data": {
      "text/plain": [
       "['bipin', 'kalra', 'is', 'teaching', 'python']"
      ]
     },
     "execution_count": 53,
     "metadata": {},
     "output_type": "execute_result"
    }
   ],
   "source": [
    "a"
   ]
  },
  {
   "cell_type": "code",
   "execution_count": 55,
   "id": "fd3be620",
   "metadata": {},
   "outputs": [
    {
     "name": "stdout",
     "output_type": "stream",
     "text": [
      "bipin\n",
      "kalra\n",
      "is\n",
      "teaching\n",
      "python\n"
     ]
    }
   ],
   "source": [
    "for i in a: # lists are iterable\n",
    "    print(i)"
   ]
  },
  {
   "cell_type": "code",
   "execution_count": 56,
   "id": "832eadfb",
   "metadata": {},
   "outputs": [],
   "source": [
    "a[0] = \"MUTABLE\""
   ]
  },
  {
   "cell_type": "code",
   "execution_count": 57,
   "id": "109c31e5",
   "metadata": {},
   "outputs": [
    {
     "data": {
      "text/plain": [
       "['MUTABLE', 'kalra', 'is', 'teaching', 'python']"
      ]
     },
     "execution_count": 57,
     "metadata": {},
     "output_type": "execute_result"
    }
   ],
   "source": [
    "a"
   ]
  },
  {
   "cell_type": "code",
   "execution_count": 58,
   "id": "06d02502",
   "metadata": {},
   "outputs": [],
   "source": [
    "a = [1, 2, 3, 4, 5, 6, 7, 8, 9, 10]"
   ]
  },
  {
   "cell_type": "code",
   "execution_count": 59,
   "id": "5013bde7",
   "metadata": {},
   "outputs": [
    {
     "data": {
      "text/plain": [
       "[3, 4, 5, 6]"
      ]
     },
     "execution_count": 59,
     "metadata": {},
     "output_type": "execute_result"
    }
   ],
   "source": [
    "a[2:-4]"
   ]
  },
  {
   "cell_type": "markdown",
   "id": "32d9a0ce",
   "metadata": {},
   "source": [
    "# TUPLES\n",
    "\n",
    "Immutable Lists!"
   ]
  },
  {
   "cell_type": "code",
   "execution_count": 60,
   "id": "a91066d2",
   "metadata": {},
   "outputs": [],
   "source": [
    "a = (1, 2, 3, 4, 5)"
   ]
  },
  {
   "cell_type": "code",
   "execution_count": 61,
   "id": "ef51ac2a",
   "metadata": {},
   "outputs": [
    {
     "ename": "TypeError",
     "evalue": "'tuple' object does not support item assignment",
     "output_type": "error",
     "traceback": [
      "\u001b[0;31m---------------------------------------------------------------------------\u001b[0m",
      "\u001b[0;31mTypeError\u001b[0m                                 Traceback (most recent call last)",
      "Cell \u001b[0;32mIn[61], line 1\u001b[0m\n\u001b[0;32m----> 1\u001b[0m \u001b[43ma\u001b[49m\u001b[43m[\u001b[49m\u001b[38;5;241;43m0\u001b[39;49m\u001b[43m]\u001b[49m \u001b[38;5;241m=\u001b[39m \u001b[38;5;241m10\u001b[39m\n",
      "\u001b[0;31mTypeError\u001b[0m: 'tuple' object does not support item assignment"
     ]
    }
   ],
   "source": [
    "a[0] = 10"
   ]
  },
  {
   "cell_type": "code",
   "execution_count": 62,
   "id": "e300f69a",
   "metadata": {},
   "outputs": [
    {
     "ename": "AttributeError",
     "evalue": "'tuple' object has no attribute 'append'",
     "output_type": "error",
     "traceback": [
      "\u001b[0;31m---------------------------------------------------------------------------\u001b[0m",
      "\u001b[0;31mAttributeError\u001b[0m                            Traceback (most recent call last)",
      "Cell \u001b[0;32mIn[62], line 1\u001b[0m\n\u001b[0;32m----> 1\u001b[0m \u001b[43ma\u001b[49m\u001b[38;5;241;43m.\u001b[39;49m\u001b[43mappend\u001b[49m(\u001b[38;5;241m5\u001b[39m)\n",
      "\u001b[0;31mAttributeError\u001b[0m: 'tuple' object has no attribute 'append'"
     ]
    }
   ],
   "source": [
    "a.append(5)"
   ]
  },
  {
   "cell_type": "code",
   "execution_count": 63,
   "id": "3d9d51da",
   "metadata": {},
   "outputs": [
    {
     "ename": "AttributeError",
     "evalue": "'tuple' object has no attribute 'remove'",
     "output_type": "error",
     "traceback": [
      "\u001b[0;31m---------------------------------------------------------------------------\u001b[0m",
      "\u001b[0;31mAttributeError\u001b[0m                            Traceback (most recent call last)",
      "Cell \u001b[0;32mIn[63], line 1\u001b[0m\n\u001b[0;32m----> 1\u001b[0m \u001b[43ma\u001b[49m\u001b[38;5;241;43m.\u001b[39;49m\u001b[43mremove\u001b[49m(\u001b[38;5;241m5\u001b[39m)\n",
      "\u001b[0;31mAttributeError\u001b[0m: 'tuple' object has no attribute 'remove'"
     ]
    }
   ],
   "source": [
    "a.remove(5)"
   ]
  },
  {
   "cell_type": "code",
   "execution_count": 64,
   "id": "55ea56ad",
   "metadata": {},
   "outputs": [
    {
     "data": {
      "text/plain": [
       "'\\nHOMEWORK ->\\n\\nDo a little bit of research on why Tuples are faster than Lists.\\n'"
      ]
     },
     "execution_count": 64,
     "metadata": {},
     "output_type": "execute_result"
    }
   ],
   "source": [
    "'''\n",
    "HOMEWORK ->\n",
    "\n",
    "Do a little bit of research on why Tuples are faster than Lists.\n",
    "'''"
   ]
  },
  {
   "cell_type": "code",
   "execution_count": 73,
   "id": "5f7d55ab",
   "metadata": {},
   "outputs": [],
   "source": [
    "a = (10)"
   ]
  },
  {
   "cell_type": "code",
   "execution_count": 74,
   "id": "94c1d5d7",
   "metadata": {},
   "outputs": [
    {
     "data": {
      "text/plain": [
       "10"
      ]
     },
     "execution_count": 74,
     "metadata": {},
     "output_type": "execute_result"
    }
   ],
   "source": [
    "a"
   ]
  },
  {
   "cell_type": "code",
   "execution_count": 75,
   "id": "5924c471",
   "metadata": {},
   "outputs": [
    {
     "data": {
      "text/plain": [
       "int"
      ]
     },
     "execution_count": 75,
     "metadata": {},
     "output_type": "execute_result"
    }
   ],
   "source": [
    "type(a)"
   ]
  },
  {
   "cell_type": "code",
   "execution_count": 76,
   "id": "c90ae6a6",
   "metadata": {},
   "outputs": [],
   "source": [
    "a = (10,)"
   ]
  },
  {
   "cell_type": "code",
   "execution_count": 77,
   "id": "5d642eef",
   "metadata": {},
   "outputs": [
    {
     "data": {
      "text/plain": [
       "tuple"
      ]
     },
     "execution_count": 77,
     "metadata": {},
     "output_type": "execute_result"
    }
   ],
   "source": [
    "type(a)"
   ]
  },
  {
   "cell_type": "code",
   "execution_count": 78,
   "id": "a1ccf41e",
   "metadata": {},
   "outputs": [
    {
     "data": {
      "text/plain": [
       "(10,)"
      ]
     },
     "execution_count": 78,
     "metadata": {},
     "output_type": "execute_result"
    }
   ],
   "source": [
    "a"
   ]
  },
  {
   "cell_type": "code",
   "execution_count": 79,
   "id": "e457b86e",
   "metadata": {},
   "outputs": [],
   "source": [
    "# PACKING AND UNPACKING"
   ]
  },
  {
   "cell_type": "code",
   "execution_count": 80,
   "id": "31fe0f0c",
   "metadata": {},
   "outputs": [],
   "source": [
    "a = (1, 2, 3)"
   ]
  },
  {
   "cell_type": "code",
   "execution_count": 81,
   "id": "8ab91099",
   "metadata": {},
   "outputs": [],
   "source": [
    "x, y, z = a"
   ]
  },
  {
   "cell_type": "code",
   "execution_count": 82,
   "id": "f8c41023",
   "metadata": {},
   "outputs": [
    {
     "data": {
      "text/plain": [
       "1"
      ]
     },
     "execution_count": 82,
     "metadata": {},
     "output_type": "execute_result"
    }
   ],
   "source": [
    "x"
   ]
  },
  {
   "cell_type": "code",
   "execution_count": 83,
   "id": "5e7da539",
   "metadata": {},
   "outputs": [
    {
     "data": {
      "text/plain": [
       "2"
      ]
     },
     "execution_count": 83,
     "metadata": {},
     "output_type": "execute_result"
    }
   ],
   "source": [
    "y"
   ]
  },
  {
   "cell_type": "code",
   "execution_count": 84,
   "id": "390dc72c",
   "metadata": {},
   "outputs": [
    {
     "data": {
      "text/plain": [
       "3"
      ]
     },
     "execution_count": 84,
     "metadata": {},
     "output_type": "execute_result"
    }
   ],
   "source": [
    "z"
   ]
  },
  {
   "cell_type": "code",
   "execution_count": 85,
   "id": "ee74fc17",
   "metadata": {},
   "outputs": [
    {
     "ename": "ValueError",
     "evalue": "too many values to unpack (expected 2)",
     "output_type": "error",
     "traceback": [
      "\u001b[0;31m---------------------------------------------------------------------------\u001b[0m",
      "\u001b[0;31mValueError\u001b[0m                                Traceback (most recent call last)",
      "Cell \u001b[0;32mIn[85], line 1\u001b[0m\n\u001b[0;32m----> 1\u001b[0m x, y \u001b[38;5;241m=\u001b[39m a\n",
      "\u001b[0;31mValueError\u001b[0m: too many values to unpack (expected 2)"
     ]
    }
   ],
   "source": [
    "x, y = a"
   ]
  },
  {
   "cell_type": "code",
   "execution_count": 86,
   "id": "1e5fdc13",
   "metadata": {},
   "outputs": [
    {
     "ename": "ValueError",
     "evalue": "not enough values to unpack (expected 4, got 3)",
     "output_type": "error",
     "traceback": [
      "\u001b[0;31m---------------------------------------------------------------------------\u001b[0m",
      "\u001b[0;31mValueError\u001b[0m                                Traceback (most recent call last)",
      "Cell \u001b[0;32mIn[86], line 1\u001b[0m\n\u001b[0;32m----> 1\u001b[0m x, y, z, w \u001b[38;5;241m=\u001b[39m a\n",
      "\u001b[0;31mValueError\u001b[0m: not enough values to unpack (expected 4, got 3)"
     ]
    }
   ],
   "source": [
    "x, y, z, w = a"
   ]
  },
  {
   "cell_type": "code",
   "execution_count": 87,
   "id": "641930a7",
   "metadata": {},
   "outputs": [],
   "source": [
    "# WE WILL LEARN HOW TO UNPACK WITHOUT HAVING THE EXACT NUMBER OF VARIABLES"
   ]
  },
  {
   "cell_type": "code",
   "execution_count": 88,
   "id": "b05f4a88",
   "metadata": {},
   "outputs": [],
   "source": [
    "def foo():\n",
    "    return 100, 200, 300"
   ]
  },
  {
   "cell_type": "code",
   "execution_count": 89,
   "id": "34942355",
   "metadata": {},
   "outputs": [],
   "source": [
    "a = foo()"
   ]
  },
  {
   "cell_type": "code",
   "execution_count": 90,
   "id": "ec03f0c4",
   "metadata": {},
   "outputs": [
    {
     "data": {
      "text/plain": [
       "(100, 200, 300)"
      ]
     },
     "execution_count": 90,
     "metadata": {},
     "output_type": "execute_result"
    }
   ],
   "source": [
    "a"
   ]
  },
  {
   "cell_type": "code",
   "execution_count": 91,
   "id": "74bc95a1",
   "metadata": {},
   "outputs": [],
   "source": [
    "a, b, c = foo()"
   ]
  },
  {
   "cell_type": "code",
   "execution_count": 92,
   "id": "d4db011d",
   "metadata": {},
   "outputs": [
    {
     "data": {
      "text/plain": [
       "100"
      ]
     },
     "execution_count": 92,
     "metadata": {},
     "output_type": "execute_result"
    }
   ],
   "source": [
    "a"
   ]
  },
  {
   "cell_type": "code",
   "execution_count": 93,
   "id": "8dea1663",
   "metadata": {},
   "outputs": [
    {
     "data": {
      "text/plain": [
       "200"
      ]
     },
     "execution_count": 93,
     "metadata": {},
     "output_type": "execute_result"
    }
   ],
   "source": [
    "b"
   ]
  },
  {
   "cell_type": "code",
   "execution_count": 94,
   "id": "6c4f9cc1",
   "metadata": {},
   "outputs": [
    {
     "data": {
      "text/plain": [
       "300"
      ]
     },
     "execution_count": 94,
     "metadata": {},
     "output_type": "execute_result"
    }
   ],
   "source": [
    "c"
   ]
  },
  {
   "cell_type": "code",
   "execution_count": 95,
   "id": "a2ed0363",
   "metadata": {},
   "outputs": [
    {
     "data": {
      "text/plain": [
       "(100, 200, 300)"
      ]
     },
     "execution_count": 95,
     "metadata": {},
     "output_type": "execute_result"
    }
   ],
   "source": [
    "a, b, c"
   ]
  },
  {
   "cell_type": "code",
   "execution_count": 96,
   "id": "3689d876",
   "metadata": {},
   "outputs": [],
   "source": [
    "a = 100, 200, 300"
   ]
  },
  {
   "cell_type": "code",
   "execution_count": 97,
   "id": "ecfa54b2",
   "metadata": {},
   "outputs": [
    {
     "data": {
      "text/plain": [
       "(100, 200, 300)"
      ]
     },
     "execution_count": 97,
     "metadata": {},
     "output_type": "execute_result"
    }
   ],
   "source": [
    "a"
   ]
  },
  {
   "cell_type": "code",
   "execution_count": 98,
   "id": "85373d9e",
   "metadata": {},
   "outputs": [],
   "source": [
    "# SWAP VALUES IN PYTHON\n",
    "\n",
    "a = 100\n",
    "b = \"random\"\n",
    "\n",
    "a, b = b, a"
   ]
  },
  {
   "cell_type": "code",
   "execution_count": 99,
   "id": "0ca30d5c",
   "metadata": {},
   "outputs": [
    {
     "data": {
      "text/plain": [
       "'random'"
      ]
     },
     "execution_count": 99,
     "metadata": {},
     "output_type": "execute_result"
    }
   ],
   "source": [
    "a"
   ]
  },
  {
   "cell_type": "code",
   "execution_count": 100,
   "id": "0f6f7212",
   "metadata": {},
   "outputs": [
    {
     "data": {
      "text/plain": [
       "100"
      ]
     },
     "execution_count": 100,
     "metadata": {},
     "output_type": "execute_result"
    }
   ],
   "source": [
    "b"
   ]
  },
  {
   "cell_type": "code",
   "execution_count": 101,
   "id": "8c5f048f",
   "metadata": {},
   "outputs": [],
   "source": [
    "# MEMBERSHIP OPERATOR"
   ]
  },
  {
   "cell_type": "code",
   "execution_count": 103,
   "id": "e9f46983",
   "metadata": {},
   "outputs": [],
   "source": [
    "a = (1,2,3,4,5,6,7,8)"
   ]
  },
  {
   "cell_type": "code",
   "execution_count": 105,
   "id": "000b908f",
   "metadata": {},
   "outputs": [
    {
     "data": {
      "text/plain": [
       "False"
      ]
     },
     "execution_count": 105,
     "metadata": {},
     "output_type": "execute_result"
    }
   ],
   "source": [
    "16 in a"
   ]
  },
  {
   "cell_type": "markdown",
   "id": "9a337ad2",
   "metadata": {},
   "source": [
    "# DICTIONARIES\n",
    "\n",
    "Mutable data structure that contains key - value pairs.\n",
    "\n",
    "Keys -> Immutable Data Structures.\n",
    "\n",
    "Values -> Any Data Structure."
   ]
  },
  {
   "cell_type": "code",
   "execution_count": 106,
   "id": "8a70d494",
   "metadata": {},
   "outputs": [],
   "source": [
    "d = {\n",
    "    \"age\" : 50,\n",
    "    \"name\" : \"Random\",\n",
    "    \"subject\" : [\"Python\", \"JS\", \"Data Science\"]\n",
    "}"
   ]
  },
  {
   "cell_type": "code",
   "execution_count": 107,
   "id": "23522ee6",
   "metadata": {},
   "outputs": [
    {
     "data": {
      "text/plain": [
       "'Random'"
      ]
     },
     "execution_count": 107,
     "metadata": {},
     "output_type": "execute_result"
    }
   ],
   "source": [
    "d[\"name\"]"
   ]
  },
  {
   "cell_type": "code",
   "execution_count": 108,
   "id": "67406e61",
   "metadata": {},
   "outputs": [
    {
     "data": {
      "text/plain": [
       "['Python', 'JS', 'Data Science']"
      ]
     },
     "execution_count": 108,
     "metadata": {},
     "output_type": "execute_result"
    }
   ],
   "source": [
    "d[\"subject\"]"
   ]
  },
  {
   "cell_type": "code",
   "execution_count": 109,
   "id": "b3f8e888",
   "metadata": {},
   "outputs": [],
   "source": [
    "d[\"name\"] = \"Bipin Kalra\""
   ]
  },
  {
   "cell_type": "code",
   "execution_count": 110,
   "id": "c0aee79d",
   "metadata": {},
   "outputs": [
    {
     "data": {
      "text/plain": [
       "{'age': 50, 'name': 'Bipin Kalra', 'subject': ['Python', 'JS', 'Data Science']}"
      ]
     },
     "execution_count": 110,
     "metadata": {},
     "output_type": "execute_result"
    }
   ],
   "source": [
    "d"
   ]
  },
  {
   "cell_type": "code",
   "execution_count": 111,
   "id": "ca3f1bd2",
   "metadata": {},
   "outputs": [],
   "source": [
    "d[\"new_key\"] = \"New Value\""
   ]
  },
  {
   "cell_type": "code",
   "execution_count": 112,
   "id": "b5975c23",
   "metadata": {},
   "outputs": [
    {
     "data": {
      "text/plain": [
       "{'age': 50,\n",
       " 'name': 'Bipin Kalra',\n",
       " 'subject': ['Python', 'JS', 'Data Science'],\n",
       " 'new_key': 'New Value'}"
      ]
     },
     "execution_count": 112,
     "metadata": {},
     "output_type": "execute_result"
    }
   ],
   "source": [
    "d"
   ]
  },
  {
   "cell_type": "code",
   "execution_count": 113,
   "id": "66c3eabf",
   "metadata": {},
   "outputs": [
    {
     "data": {
      "text/plain": [
       "'New Value'"
      ]
     },
     "execution_count": 113,
     "metadata": {},
     "output_type": "execute_result"
    }
   ],
   "source": [
    "d.pop(\"new_key\")"
   ]
  },
  {
   "cell_type": "code",
   "execution_count": 114,
   "id": "e738a054",
   "metadata": {},
   "outputs": [
    {
     "data": {
      "text/plain": [
       "{'age': 50, 'name': 'Bipin Kalra', 'subject': ['Python', 'JS', 'Data Science']}"
      ]
     },
     "execution_count": 114,
     "metadata": {},
     "output_type": "execute_result"
    }
   ],
   "source": [
    "d"
   ]
  },
  {
   "cell_type": "code",
   "execution_count": 116,
   "id": "19b753f8",
   "metadata": {},
   "outputs": [],
   "source": [
    "d.update({\n",
    "    \"awesomeness\" : \"INFINITE\",\n",
    "    \"age\" : 5000\n",
    "})"
   ]
  },
  {
   "cell_type": "code",
   "execution_count": 117,
   "id": "392fb436",
   "metadata": {},
   "outputs": [
    {
     "data": {
      "text/plain": [
       "{'age': 5000,\n",
       " 'name': 'Bipin Kalra',\n",
       " 'subject': ['Python', 'JS', 'Data Science'],\n",
       " 'awesomeness': 'INFINITE'}"
      ]
     },
     "execution_count": 117,
     "metadata": {},
     "output_type": "execute_result"
    }
   ],
   "source": [
    "d"
   ]
  },
  {
   "cell_type": "code",
   "execution_count": 118,
   "id": "d276e676",
   "metadata": {},
   "outputs": [],
   "source": [
    "# DICTIONARIES ARE ALSO ITERABLE!"
   ]
  },
  {
   "cell_type": "code",
   "execution_count": 120,
   "id": "41995560",
   "metadata": {},
   "outputs": [
    {
     "name": "stdout",
     "output_type": "stream",
     "text": [
      "age\n",
      "name\n",
      "subject\n",
      "awesomeness\n"
     ]
    }
   ],
   "source": [
    "for i in d: # iterates over the keys by default\n",
    "    print(i)"
   ]
  },
  {
   "cell_type": "code",
   "execution_count": 122,
   "id": "24f650ed",
   "metadata": {},
   "outputs": [
    {
     "name": "stdout",
     "output_type": "stream",
     "text": [
      "5000\n",
      "Bipin Kalra\n",
      "['Python', 'JS', 'Data Science']\n",
      "INFINITE\n"
     ]
    }
   ],
   "source": [
    "for i in d.values(): # to iterate over the values\n",
    "    print(i)"
   ]
  },
  {
   "cell_type": "code",
   "execution_count": 125,
   "id": "90fb34fe",
   "metadata": {},
   "outputs": [
    {
     "name": "stdout",
     "output_type": "stream",
     "text": [
      "age  ->  5000\n",
      "name  ->  Bipin Kalra\n",
      "subject  ->  ['Python', 'JS', 'Data Science']\n",
      "awesomeness  ->  INFINITE\n"
     ]
    }
   ],
   "source": [
    "for key, value in d.items():\n",
    "    print(key,\" -> \", value)"
   ]
  },
  {
   "cell_type": "code",
   "execution_count": 126,
   "id": "3f859c34",
   "metadata": {},
   "outputs": [],
   "source": [
    "random = {\n",
    "    \"string\" : [1,2,3,4],\n",
    "    45 : \"integers\",\n",
    "    67.8 : \"floats\",\n",
    "    True : {\n",
    "        \"nested\" : \"dictionary\"\n",
    "    },\n",
    "    (1,2,3) : \"tuples are also immutable\"\n",
    "}\n",
    "\n",
    "# ANYTHING CAN BE A VALUE\n",
    "# ONLY IMMUTABLE DATA TYPES AND STRUCTURES CAN BE KEYS"
   ]
  },
  {
   "cell_type": "code",
   "execution_count": 127,
   "id": "221f8c91",
   "metadata": {},
   "outputs": [
    {
     "data": {
      "text/plain": [
       "{'string': [1, 2, 3, 4],\n",
       " 45: 'integers',\n",
       " 67.8: 'floats',\n",
       " True: {'nested': 'dictionary'},\n",
       " (1, 2, 3): 'tuples are also immutable'}"
      ]
     },
     "execution_count": 127,
     "metadata": {},
     "output_type": "execute_result"
    }
   ],
   "source": [
    "random"
   ]
  },
  {
   "cell_type": "code",
   "execution_count": 129,
   "id": "20a4a01f",
   "metadata": {},
   "outputs": [
    {
     "data": {
      "text/plain": [
       "{'nested': 'dictionary'}"
      ]
     },
     "execution_count": 129,
     "metadata": {},
     "output_type": "execute_result"
    }
   ],
   "source": [
    "random[True]"
   ]
  },
  {
   "cell_type": "code",
   "execution_count": 131,
   "id": "8210a331",
   "metadata": {},
   "outputs": [
    {
     "ename": "KeyError",
     "evalue": "False",
     "output_type": "error",
     "traceback": [
      "\u001b[0;31m---------------------------------------------------------------------------\u001b[0m",
      "\u001b[0;31mKeyError\u001b[0m                                  Traceback (most recent call last)",
      "Cell \u001b[0;32mIn[131], line 1\u001b[0m\n\u001b[0;32m----> 1\u001b[0m \u001b[43mrandom\u001b[49m\u001b[43m[\u001b[49m\u001b[38;5;28;43;01mFalse\u001b[39;49;00m\u001b[43m]\u001b[49m\n",
      "\u001b[0;31mKeyError\u001b[0m: False"
     ]
    }
   ],
   "source": [
    "random[False]"
   ]
  },
  {
   "cell_type": "code",
   "execution_count": 130,
   "id": "97f1998e",
   "metadata": {},
   "outputs": [
    {
     "data": {
      "text/plain": [
       "{'nested': 'dictionary'}"
      ]
     },
     "execution_count": 130,
     "metadata": {},
     "output_type": "execute_result"
    }
   ],
   "source": [
    "random.get(True)"
   ]
  },
  {
   "cell_type": "code",
   "execution_count": 133,
   "id": "ec063757",
   "metadata": {},
   "outputs": [
    {
     "data": {
      "text/plain": [
       "'NOT FOUND!'"
      ]
     },
     "execution_count": 133,
     "metadata": {},
     "output_type": "execute_result"
    }
   ],
   "source": [
    "random.get(False, \"NOT FOUND!\")"
   ]
  },
  {
   "cell_type": "markdown",
   "id": "c917457a",
   "metadata": {},
   "source": [
    "# SETS\n",
    "\n",
    "Unique collection of values."
   ]
  },
  {
   "cell_type": "code",
   "execution_count": 134,
   "id": "6ff6da55",
   "metadata": {},
   "outputs": [],
   "source": [
    "s = {1,2,3,3,4,4,5,5,5,5,5,6,6,6,6,8,8,8,9,7}"
   ]
  },
  {
   "cell_type": "code",
   "execution_count": 135,
   "id": "7ff74829",
   "metadata": {},
   "outputs": [
    {
     "data": {
      "text/plain": [
       "{1, 2, 3, 4, 5, 6, 7, 8, 9}"
      ]
     },
     "execution_count": 135,
     "metadata": {},
     "output_type": "execute_result"
    }
   ],
   "source": [
    "s"
   ]
  },
  {
   "cell_type": "code",
   "execution_count": 136,
   "id": "2101d4ac",
   "metadata": {},
   "outputs": [],
   "source": [
    "d = {\n",
    "    \"key\" : \"value1\",\n",
    "    \"key\" : \"value2\"\n",
    "}"
   ]
  },
  {
   "cell_type": "code",
   "execution_count": 137,
   "id": "cf6b508d",
   "metadata": {},
   "outputs": [
    {
     "data": {
      "text/plain": [
       "{'key': 'value2'}"
      ]
     },
     "execution_count": 137,
     "metadata": {},
     "output_type": "execute_result"
    }
   ],
   "source": [
    "d"
   ]
  },
  {
   "cell_type": "code",
   "execution_count": 138,
   "id": "23f87fe6",
   "metadata": {},
   "outputs": [
    {
     "data": {
      "text/plain": [
       "False"
      ]
     },
     "execution_count": 138,
     "metadata": {},
     "output_type": "execute_result"
    }
   ],
   "source": [
    "10 in s"
   ]
  },
  {
   "cell_type": "code",
   "execution_count": 139,
   "id": "28e36d6d",
   "metadata": {},
   "outputs": [
    {
     "data": {
      "text/plain": [
       "True"
      ]
     },
     "execution_count": 139,
     "metadata": {},
     "output_type": "execute_result"
    }
   ],
   "source": [
    "5 in s"
   ]
  },
  {
   "cell_type": "code",
   "execution_count": 140,
   "id": "573d94e7",
   "metadata": {},
   "outputs": [],
   "source": [
    "s1 = {}"
   ]
  },
  {
   "cell_type": "code",
   "execution_count": 141,
   "id": "ea578624",
   "metadata": {},
   "outputs": [
    {
     "data": {
      "text/plain": [
       "dict"
      ]
     },
     "execution_count": 141,
     "metadata": {},
     "output_type": "execute_result"
    }
   ],
   "source": [
    "type(s1)"
   ]
  },
  {
   "cell_type": "code",
   "execution_count": 142,
   "id": "85e08ecd",
   "metadata": {},
   "outputs": [],
   "source": [
    "s1 = set()"
   ]
  },
  {
   "cell_type": "code",
   "execution_count": 143,
   "id": "c2d5696c",
   "metadata": {},
   "outputs": [
    {
     "data": {
      "text/plain": [
       "set()"
      ]
     },
     "execution_count": 143,
     "metadata": {},
     "output_type": "execute_result"
    }
   ],
   "source": [
    "s1"
   ]
  },
  {
   "cell_type": "code",
   "execution_count": 144,
   "id": "0d8b4c72",
   "metadata": {},
   "outputs": [
    {
     "data": {
      "text/plain": [
       "{1, 2, 3, 4, 5, 6, 7, 8, 9}"
      ]
     },
     "execution_count": 144,
     "metadata": {},
     "output_type": "execute_result"
    }
   ],
   "source": [
    "s"
   ]
  },
  {
   "cell_type": "code",
   "execution_count": 145,
   "id": "1e65795e",
   "metadata": {},
   "outputs": [],
   "source": [
    "s.add(10)"
   ]
  },
  {
   "cell_type": "code",
   "execution_count": 146,
   "id": "00a2249e",
   "metadata": {},
   "outputs": [
    {
     "data": {
      "text/plain": [
       "{1, 2, 3, 4, 5, 6, 7, 8, 9, 10}"
      ]
     },
     "execution_count": 146,
     "metadata": {},
     "output_type": "execute_result"
    }
   ],
   "source": [
    "s"
   ]
  },
  {
   "cell_type": "code",
   "execution_count": 147,
   "id": "bd51bd6b",
   "metadata": {},
   "outputs": [],
   "source": [
    "s.remove(8)"
   ]
  },
  {
   "cell_type": "code",
   "execution_count": 148,
   "id": "113d52e3",
   "metadata": {},
   "outputs": [
    {
     "data": {
      "text/plain": [
       "{1, 2, 3, 4, 5, 6, 7, 9, 10}"
      ]
     },
     "execution_count": 148,
     "metadata": {},
     "output_type": "execute_result"
    }
   ],
   "source": [
    "s"
   ]
  },
  {
   "cell_type": "code",
   "execution_count": 150,
   "id": "87ab7888",
   "metadata": {},
   "outputs": [
    {
     "ename": "TypeError",
     "evalue": "'set' object is not subscriptable",
     "output_type": "error",
     "traceback": [
      "\u001b[0;31m---------------------------------------------------------------------------\u001b[0m",
      "\u001b[0;31mTypeError\u001b[0m                                 Traceback (most recent call last)",
      "Cell \u001b[0;32mIn[150], line 1\u001b[0m\n\u001b[0;32m----> 1\u001b[0m \u001b[43ms\u001b[49m\u001b[43m[\u001b[49m\u001b[38;5;241;43m0\u001b[39;49m\u001b[43m]\u001b[49m \u001b[38;5;66;03m# Sets are not ordered -> NO INDEXES!\u001b[39;00m\n",
      "\u001b[0;31mTypeError\u001b[0m: 'set' object is not subscriptable"
     ]
    }
   ],
   "source": [
    "s[0] # Sets are not ordered -> NO INDEXES!"
   ]
  },
  {
   "cell_type": "code",
   "execution_count": 151,
   "id": "83973769",
   "metadata": {},
   "outputs": [],
   "source": [
    "s.update([20,30,40,50,60,70])"
   ]
  },
  {
   "cell_type": "code",
   "execution_count": 152,
   "id": "d9305f22",
   "metadata": {},
   "outputs": [
    {
     "data": {
      "text/plain": [
       "{1, 2, 3, 4, 5, 6, 7, 9, 10, 20, 30, 40, 50, 60, 70}"
      ]
     },
     "execution_count": 152,
     "metadata": {},
     "output_type": "execute_result"
    }
   ],
   "source": [
    "s"
   ]
  },
  {
   "cell_type": "code",
   "execution_count": 153,
   "id": "e667d28f",
   "metadata": {},
   "outputs": [],
   "source": [
    "A = {1,2,3}\n",
    "B = {3,4,5,6}"
   ]
  },
  {
   "cell_type": "code",
   "execution_count": 154,
   "id": "c7f95b39",
   "metadata": {},
   "outputs": [
    {
     "data": {
      "text/plain": [
       "{3}"
      ]
     },
     "execution_count": 154,
     "metadata": {},
     "output_type": "execute_result"
    }
   ],
   "source": [
    "A.intersection(B)"
   ]
  },
  {
   "cell_type": "code",
   "execution_count": 155,
   "id": "7d03a0fd",
   "metadata": {},
   "outputs": [
    {
     "data": {
      "text/plain": [
       "{3}"
      ]
     },
     "execution_count": 155,
     "metadata": {},
     "output_type": "execute_result"
    }
   ],
   "source": [
    "A & B"
   ]
  },
  {
   "cell_type": "code",
   "execution_count": 156,
   "id": "51882353",
   "metadata": {},
   "outputs": [
    {
     "data": {
      "text/plain": [
       "{1, 2, 3, 4, 5, 6}"
      ]
     },
     "execution_count": 156,
     "metadata": {},
     "output_type": "execute_result"
    }
   ],
   "source": [
    "A.union(B)"
   ]
  },
  {
   "cell_type": "code",
   "execution_count": 157,
   "id": "a13373eb",
   "metadata": {},
   "outputs": [
    {
     "data": {
      "text/plain": [
       "{1, 2, 3, 4, 5, 6}"
      ]
     },
     "execution_count": 157,
     "metadata": {},
     "output_type": "execute_result"
    }
   ],
   "source": [
    "A | B"
   ]
  },
  {
   "cell_type": "code",
   "execution_count": 158,
   "id": "9b9ce8ae",
   "metadata": {},
   "outputs": [
    {
     "data": {
      "text/plain": [
       "{1, 2}"
      ]
     },
     "execution_count": 158,
     "metadata": {},
     "output_type": "execute_result"
    }
   ],
   "source": [
    "A.difference(B)"
   ]
  },
  {
   "cell_type": "code",
   "execution_count": 159,
   "id": "09ac3b20",
   "metadata": {},
   "outputs": [
    {
     "data": {
      "text/plain": [
       "{1, 2}"
      ]
     },
     "execution_count": 159,
     "metadata": {},
     "output_type": "execute_result"
    }
   ],
   "source": [
    "A - B"
   ]
  },
  {
   "cell_type": "code",
   "execution_count": 160,
   "id": "3b63f97d",
   "metadata": {},
   "outputs": [
    {
     "data": {
      "text/plain": [
       "{1, 2, 4, 5, 6}"
      ]
     },
     "execution_count": 160,
     "metadata": {},
     "output_type": "execute_result"
    }
   ],
   "source": [
    "A.symmetric_difference(B)"
   ]
  },
  {
   "cell_type": "code",
   "execution_count": 161,
   "id": "c7f835ab",
   "metadata": {},
   "outputs": [
    {
     "data": {
      "text/plain": [
       "{1, 2, 4, 5, 6}"
      ]
     },
     "execution_count": 161,
     "metadata": {},
     "output_type": "execute_result"
    }
   ],
   "source": [
    "A ^ B"
   ]
  },
  {
   "cell_type": "code",
   "execution_count": 162,
   "id": "95959dbb",
   "metadata": {},
   "outputs": [
    {
     "data": {
      "text/plain": [
       "'\\nHOMEWORK ->\\nstring1 = \"this is a random string which contains some repearing character and some non-repeating characters. Pick them!\"\\n\\nReturn the count of characters which only occur once in the string.\\n'"
      ]
     },
     "execution_count": 162,
     "metadata": {},
     "output_type": "execute_result"
    }
   ],
   "source": [
    "'''\n",
    "HOMEWORK ->\n",
    "string1 = \"this is a random string which contains some repearing character and some non-repeating characters. Pick them!\"\n",
    "\n",
    "Return the count of characters which only occur once in the string.\n",
    "'''"
   ]
  },
  {
   "cell_type": "code",
   "execution_count": 165,
   "id": "299f9f5d",
   "metadata": {},
   "outputs": [],
   "source": [
    "board = [[\"\"] * 3] * 3"
   ]
  },
  {
   "cell_type": "code",
   "execution_count": 166,
   "id": "743cb5d9",
   "metadata": {},
   "outputs": [
    {
     "data": {
      "text/plain": [
       "[['', '', ''], ['', '', ''], ['', '', '']]"
      ]
     },
     "execution_count": 166,
     "metadata": {},
     "output_type": "execute_result"
    }
   ],
   "source": [
    "board"
   ]
  },
  {
   "cell_type": "code",
   "execution_count": 167,
   "id": "d59e13d3",
   "metadata": {},
   "outputs": [],
   "source": [
    "board[1][2] = \"0\""
   ]
  },
  {
   "cell_type": "code",
   "execution_count": 168,
   "id": "0ebec21a",
   "metadata": {},
   "outputs": [
    {
     "data": {
      "text/plain": [
       "[['', '', '0'], ['', '', '0'], ['', '', '0']]"
      ]
     },
     "execution_count": 168,
     "metadata": {},
     "output_type": "execute_result"
    }
   ],
   "source": [
    "board"
   ]
  },
  {
   "cell_type": "code",
   "execution_count": 169,
   "id": "55c0c308",
   "metadata": {},
   "outputs": [
    {
     "data": {
      "text/plain": [
       "'\\nHOMEWORK ->\\nTry and explain this!\\n'"
      ]
     },
     "execution_count": 169,
     "metadata": {},
     "output_type": "execute_result"
    }
   ],
   "source": [
    "'''\n",
    "HOMEWORK ->\n",
    "Try and explain this!\n",
    "'''"
   ]
  },
  {
   "cell_type": "code",
   "execution_count": 170,
   "id": "0307c4ca",
   "metadata": {},
   "outputs": [],
   "source": [
    "a = [1, 2, 3, 4, 5]"
   ]
  },
  {
   "cell_type": "code",
   "execution_count": 173,
   "id": "2eeae366",
   "metadata": {},
   "outputs": [],
   "source": [
    "squares = [] # Creating a new empty list\n",
    "\n",
    "for i in a: # For loop statement\n",
    "    squares.append(i ** 2) # Value to be appended"
   ]
  },
  {
   "cell_type": "code",
   "execution_count": 174,
   "id": "c52eeef5",
   "metadata": {},
   "outputs": [
    {
     "data": {
      "text/plain": [
       "[1, 4, 9, 16, 25]"
      ]
     },
     "execution_count": 174,
     "metadata": {},
     "output_type": "execute_result"
    }
   ],
   "source": [
    "squares"
   ]
  },
  {
   "cell_type": "code",
   "execution_count": 175,
   "id": "fe38d9df",
   "metadata": {},
   "outputs": [],
   "source": [
    "squares = [ i**2 for i in a ]"
   ]
  },
  {
   "cell_type": "code",
   "execution_count": 176,
   "id": "d2d3ae26",
   "metadata": {},
   "outputs": [
    {
     "data": {
      "text/plain": [
       "[1, 4, 9, 16, 25]"
      ]
     },
     "execution_count": 176,
     "metadata": {},
     "output_type": "execute_result"
    }
   ],
   "source": [
    "squares"
   ]
  },
  {
   "cell_type": "code",
   "execution_count": 177,
   "id": "251d34db",
   "metadata": {},
   "outputs": [],
   "source": [
    "# NESTED LIST COMPREHENSION"
   ]
  },
  {
   "cell_type": "code",
   "execution_count": 179,
   "id": "b685d344",
   "metadata": {},
   "outputs": [],
   "source": [
    "# METHOD 1\n",
    "table = [ [ i * j for j in range(1, 11) ] for i in range(1, 11) ]"
   ]
  },
  {
   "cell_type": "code",
   "execution_count": 180,
   "id": "65bf13a8",
   "metadata": {},
   "outputs": [
    {
     "data": {
      "text/plain": [
       "[[1, 2, 3, 4, 5, 6, 7, 8, 9, 10],\n",
       " [2, 4, 6, 8, 10, 12, 14, 16, 18, 20],\n",
       " [3, 6, 9, 12, 15, 18, 21, 24, 27, 30],\n",
       " [4, 8, 12, 16, 20, 24, 28, 32, 36, 40],\n",
       " [5, 10, 15, 20, 25, 30, 35, 40, 45, 50],\n",
       " [6, 12, 18, 24, 30, 36, 42, 48, 54, 60],\n",
       " [7, 14, 21, 28, 35, 42, 49, 56, 63, 70],\n",
       " [8, 16, 24, 32, 40, 48, 56, 64, 72, 80],\n",
       " [9, 18, 27, 36, 45, 54, 63, 72, 81, 90],\n",
       " [10, 20, 30, 40, 50, 60, 70, 80, 90, 100]]"
      ]
     },
     "execution_count": 180,
     "metadata": {},
     "output_type": "execute_result"
    }
   ],
   "source": [
    "table"
   ]
  },
  {
   "cell_type": "code",
   "execution_count": 183,
   "id": "cfb59f24",
   "metadata": {},
   "outputs": [
    {
     "name": "stdout",
     "output_type": "stream",
     "text": [
      "['1a', '2a', '3a', '1b', '2b', '3b', '1c', '2c', '3c']\n"
     ]
    }
   ],
   "source": [
    "result = []\n",
    "\n",
    "for j in [\"a\", \"b\", \"c\"]:\n",
    "    for i in [\"1\", \"2\", \"3\"]:\n",
    "        result.append(i + j)\n",
    "        \n",
    "print(result)"
   ]
  },
  {
   "cell_type": "code",
   "execution_count": 187,
   "id": "8a03bbce",
   "metadata": {},
   "outputs": [],
   "source": [
    "# METHOD 2\n",
    "random = [i + j for i in [\"1\", \"2\", \"3\"] for j in [\"a\", \"b\", \"c\"]]\n",
    "\n",
    "# Leftmost -> Outermost\n",
    "# Rightmost -> Innermost"
   ]
  },
  {
   "cell_type": "code",
   "execution_count": 185,
   "id": "6a7e3669",
   "metadata": {},
   "outputs": [
    {
     "data": {
      "text/plain": [
       "['1a', '1b', '1c', '2a', '2b', '2c', '3a', '3b', '3c']"
      ]
     },
     "execution_count": 185,
     "metadata": {},
     "output_type": "execute_result"
    }
   ],
   "source": [
    "random"
   ]
  },
  {
   "cell_type": "code",
   "execution_count": 186,
   "id": "716c858e",
   "metadata": {},
   "outputs": [
    {
     "name": "stdout",
     "output_type": "stream",
     "text": [
      "['1a', '1b', '1c', '2a', '2b', '2c', '3a', '3b', '3c']\n"
     ]
    }
   ],
   "source": [
    "result = []\n",
    "\n",
    "for i in [\"1\", \"2\", \"3\"]:\n",
    "    for j in [\"a\", \"b\", \"c\"]:\n",
    "        result.append(i + j)\n",
    "        \n",
    "print(result)"
   ]
  },
  {
   "cell_type": "code",
   "execution_count": 188,
   "id": "0f1b27a9",
   "metadata": {},
   "outputs": [],
   "source": [
    "s = {i**2 for i in range(1, 11)}"
   ]
  },
  {
   "cell_type": "code",
   "execution_count": 189,
   "id": "511f4248",
   "metadata": {},
   "outputs": [
    {
     "data": {
      "text/plain": [
       "{1, 4, 9, 16, 25, 36, 49, 64, 81, 100}"
      ]
     },
     "execution_count": 189,
     "metadata": {},
     "output_type": "execute_result"
    }
   ],
   "source": [
    "s"
   ]
  },
  {
   "cell_type": "code",
   "execution_count": 192,
   "id": "df4972a2",
   "metadata": {},
   "outputs": [],
   "source": [
    "d = { f\"Number {i}\":i**2 for i in range(1, 11) }"
   ]
  },
  {
   "cell_type": "code",
   "execution_count": 193,
   "id": "8ff3c81a",
   "metadata": {},
   "outputs": [
    {
     "data": {
      "text/plain": [
       "{'Number 1': 1,\n",
       " 'Number 2': 4,\n",
       " 'Number 3': 9,\n",
       " 'Number 4': 16,\n",
       " 'Number 5': 25,\n",
       " 'Number 6': 36,\n",
       " 'Number 7': 49,\n",
       " 'Number 8': 64,\n",
       " 'Number 9': 81,\n",
       " 'Number 10': 100}"
      ]
     },
     "execution_count": 193,
     "metadata": {},
     "output_type": "execute_result"
    }
   ],
   "source": [
    "d"
   ]
  },
  {
   "cell_type": "code",
   "execution_count": 194,
   "id": "e5129707",
   "metadata": {},
   "outputs": [],
   "source": [
    "t = (i for i in range(1, 11))"
   ]
  },
  {
   "cell_type": "code",
   "execution_count": 196,
   "id": "79db6287",
   "metadata": {},
   "outputs": [
    {
     "data": {
      "text/plain": [
       "<generator object <genexpr> at 0x7fd7e8a71190>"
      ]
     },
     "execution_count": 196,
     "metadata": {},
     "output_type": "execute_result"
    }
   ],
   "source": [
    "t # OUT OF SCOPE FOR NOW"
   ]
  },
  {
   "cell_type": "code",
   "execution_count": 197,
   "id": "10f2d811",
   "metadata": {},
   "outputs": [],
   "source": [
    "# Formattable Strings"
   ]
  },
  {
   "cell_type": "code",
   "execution_count": 203,
   "id": "ba6c8571",
   "metadata": {},
   "outputs": [],
   "source": [
    "a = 10\n",
    "b = 20\n",
    "c = 30"
   ]
  },
  {
   "cell_type": "code",
   "execution_count": 199,
   "id": "9e22409b",
   "metadata": {},
   "outputs": [
    {
     "data": {
      "text/plain": [
       "'a (10) and  b (20) when added return c (30)!'"
      ]
     },
     "execution_count": 199,
     "metadata": {},
     "output_type": "execute_result"
    }
   ],
   "source": [
    "\"a (10) and  b (20) when added return c (30)!\""
   ]
  },
  {
   "cell_type": "code",
   "execution_count": 201,
   "id": "b93de5a6",
   "metadata": {},
   "outputs": [],
   "source": [
    "a = \"a (\" + str(a) + \") and b (\""
   ]
  },
  {
   "cell_type": "code",
   "execution_count": 202,
   "id": "c8be07a7",
   "metadata": {},
   "outputs": [
    {
     "data": {
      "text/plain": [
       "'a (10) and b ('"
      ]
     },
     "execution_count": 202,
     "metadata": {},
     "output_type": "execute_result"
    }
   ],
   "source": [
    "a"
   ]
  },
  {
   "cell_type": "code",
   "execution_count": 204,
   "id": "c819809b",
   "metadata": {},
   "outputs": [],
   "source": [
    "s = f\"a ({a}), b ({b}) when added return c ({c})!\""
   ]
  },
  {
   "cell_type": "code",
   "execution_count": 205,
   "id": "f2632123",
   "metadata": {},
   "outputs": [
    {
     "data": {
      "text/plain": [
       "'a (10), b (20) when added return c (30)!'"
      ]
     },
     "execution_count": 205,
     "metadata": {},
     "output_type": "execute_result"
    }
   ],
   "source": [
    "s"
   ]
  },
  {
   "cell_type": "markdown",
   "id": "3ef2ff46",
   "metadata": {},
   "source": [
    "# Glossary of string methods\n",
    "\n",
    "1. __split__ -> `\"this is a string\".split(\" \")` -> string to a list\n",
    "\n",
    "2. __join__ -> `\" \".join([\"list\", \"of\", \"strings\"])` -> list of strings to a string\n",
    "\n",
    "3. __replace__ -> `\"this is a string\".replace(\" \", \"_\")` -> replaces all occurences of the first character by the second character. __IMP__ - _CREATES A NEW STRING_\n",
    "\n",
    "4. __find__ -> `\"this is a string\".find(\" a \")` -> Finds the exact sequence or substring in the original string and returns the starting index of that substring.\n",
    "\n",
    "5. __count__ -> `\"this is a string\".count(\"a\")` -> Counts the number of times a character or substring is present within a string\n",
    "\n",
    "6. __isdigit__ -> True if content inside the string is only digits.\n",
    "7. __isalpha__ -> True if content inside the string is only alphabets.\n",
    "8. __islower__ / __isupper__ -> True if content inside the string is all lower case / all upper case\n",
    "9. __isspace__ -> True if the character is a space\n",
    "10. __lower__ / __upper__ -> Converts a string to lowercase / uppercase\n",
    "\n",
    "__Special Mention__\n",
    "- `\"random\" in \"this is random!\"` -> MEMBERSHIP OPERATOR - True if operand1 is present inside operand2."
   ]
  },
  {
   "cell_type": "code",
   "execution_count": null,
   "id": "8ea99c47",
   "metadata": {},
   "outputs": [],
   "source": []
  }
 ],
 "metadata": {
  "kernelspec": {
   "display_name": "Python 3 (ipykernel)",
   "language": "python",
   "name": "python3"
  },
  "language_info": {
   "codemirror_mode": {
    "name": "ipython",
    "version": 3
   },
   "file_extension": ".py",
   "mimetype": "text/x-python",
   "name": "python",
   "nbconvert_exporter": "python",
   "pygments_lexer": "ipython3",
   "version": "3.9.5"
  }
 },
 "nbformat": 4,
 "nbformat_minor": 5
}
