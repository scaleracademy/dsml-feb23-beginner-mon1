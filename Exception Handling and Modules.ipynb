{
 "cells": [
  {
   "cell_type": "markdown",
   "id": "671b1d2a",
   "metadata": {},
   "source": [
    "# Modules"
   ]
  },
  {
   "cell_type": "code",
   "execution_count": null,
   "id": "42140fbb",
   "metadata": {},
   "outputs": [],
   "source": [
    "import math"
   ]
  },
  {
   "cell_type": "code",
   "execution_count": 3,
   "id": "23404238",
   "metadata": {},
   "outputs": [],
   "source": [
    "# help(math)"
   ]
  },
  {
   "cell_type": "code",
   "execution_count": 5,
   "id": "0b157310",
   "metadata": {},
   "outputs": [
    {
     "data": {
      "text/plain": [
       "True"
      ]
     },
     "execution_count": 5,
     "metadata": {},
     "output_type": "execute_result"
    }
   ],
   "source": [
    "isinstance(math, object)"
   ]
  },
  {
   "cell_type": "code",
   "execution_count": 6,
   "id": "c073b834",
   "metadata": {},
   "outputs": [
    {
     "data": {
      "text/plain": [
       "module"
      ]
     },
     "execution_count": 6,
     "metadata": {},
     "output_type": "execute_result"
    }
   ],
   "source": [
    "type(math)"
   ]
  },
  {
   "cell_type": "code",
   "execution_count": 7,
   "id": "50402a8e",
   "metadata": {},
   "outputs": [],
   "source": [
    "import random"
   ]
  },
  {
   "cell_type": "code",
   "execution_count": 15,
   "id": "184a593c",
   "metadata": {},
   "outputs": [
    {
     "data": {
      "text/plain": [
       "90"
      ]
     },
     "execution_count": 15,
     "metadata": {},
     "output_type": "execute_result"
    }
   ],
   "source": [
    "random.randint(0, 100)"
   ]
  },
  {
   "cell_type": "code",
   "execution_count": 22,
   "id": "39f9236a",
   "metadata": {},
   "outputs": [],
   "source": [
    "import numpy as np"
   ]
  },
  {
   "cell_type": "code",
   "execution_count": 23,
   "id": "6efe7dbf",
   "metadata": {},
   "outputs": [],
   "source": [
    "from math import floor, ceil, sqrt"
   ]
  },
  {
   "cell_type": "code",
   "execution_count": 24,
   "id": "44a3ce58",
   "metadata": {},
   "outputs": [
    {
     "data": {
      "text/plain": [
       "6"
      ]
     },
     "execution_count": 24,
     "metadata": {},
     "output_type": "execute_result"
    }
   ],
   "source": [
    "floor(6.7)"
   ]
  },
  {
   "cell_type": "code",
   "execution_count": 25,
   "id": "0edf070c",
   "metadata": {},
   "outputs": [
    {
     "data": {
      "text/plain": [
       "7"
      ]
     },
     "execution_count": 25,
     "metadata": {},
     "output_type": "execute_result"
    }
   ],
   "source": [
    "ceil(6.7)"
   ]
  },
  {
   "cell_type": "code",
   "execution_count": 26,
   "id": "4338ed4e",
   "metadata": {},
   "outputs": [
    {
     "data": {
      "text/plain": [
       "2.449489742783178"
      ]
     },
     "execution_count": 26,
     "metadata": {},
     "output_type": "execute_result"
    }
   ],
   "source": [
    "sqrt(6)"
   ]
  },
  {
   "cell_type": "code",
   "execution_count": 27,
   "id": "92e6cc2e",
   "metadata": {},
   "outputs": [],
   "source": [
    "from math import * # WORST WAY OF IMPORTING A MODULE!"
   ]
  },
  {
   "cell_type": "code",
   "execution_count": 28,
   "id": "9f3b0467",
   "metadata": {},
   "outputs": [],
   "source": [
    "from math import floor as f, ceil as c"
   ]
  },
  {
   "cell_type": "code",
   "execution_count": 29,
   "id": "4c18f18c",
   "metadata": {},
   "outputs": [
    {
     "data": {
      "text/plain": [
       "6"
      ]
     },
     "execution_count": 29,
     "metadata": {},
     "output_type": "execute_result"
    }
   ],
   "source": [
    "f(6.7)"
   ]
  },
  {
   "cell_type": "code",
   "execution_count": 30,
   "id": "99ad54f0",
   "metadata": {},
   "outputs": [
    {
     "data": {
      "text/plain": [
       "7"
      ]
     },
     "execution_count": 30,
     "metadata": {},
     "output_type": "execute_result"
    }
   ],
   "source": [
    "c(6.7)"
   ]
  },
  {
   "cell_type": "code",
   "execution_count": 31,
   "id": "f96ff1b9",
   "metadata": {},
   "outputs": [],
   "source": [
    "import matplotlib.pyplot as plt"
   ]
  },
  {
   "cell_type": "code",
   "execution_count": 32,
   "id": "43a0e1d8",
   "metadata": {},
   "outputs": [],
   "source": [
    "# HOMEWORK\n",
    "# Create a custom math module\n",
    "# This should contain functions to add, subtract, multiple and divide"
   ]
  },
  {
   "cell_type": "markdown",
   "id": "4b7b7fe1",
   "metadata": {},
   "source": [
    "# Exception Handling"
   ]
  },
  {
   "cell_type": "code",
   "execution_count": 33,
   "id": "1ab943ae",
   "metadata": {},
   "outputs": [
    {
     "ename": "ZeroDivisionError",
     "evalue": "division by zero",
     "output_type": "error",
     "traceback": [
      "\u001b[0;31m---------------------------------------------------------------------------\u001b[0m",
      "\u001b[0;31mZeroDivisionError\u001b[0m                         Traceback (most recent call last)",
      "Cell \u001b[0;32mIn[33], line 1\u001b[0m\n\u001b[0;32m----> 1\u001b[0m \u001b[38;5;241;43m1\u001b[39;49m\u001b[43m \u001b[49m\u001b[38;5;241;43m/\u001b[39;49m\u001b[43m \u001b[49m\u001b[38;5;241;43m0\u001b[39;49m\n",
      "\u001b[0;31mZeroDivisionError\u001b[0m: division by zero"
     ]
    }
   ],
   "source": [
    "1 / 0"
   ]
  },
  {
   "cell_type": "code",
   "execution_count": 34,
   "id": "953885d2",
   "metadata": {},
   "outputs": [
    {
     "ename": "NameError",
     "evalue": "name 'a_not_defined' is not defined",
     "output_type": "error",
     "traceback": [
      "\u001b[0;31m---------------------------------------------------------------------------\u001b[0m",
      "\u001b[0;31mNameError\u001b[0m                                 Traceback (most recent call last)",
      "Cell \u001b[0;32mIn[34], line 1\u001b[0m\n\u001b[0;32m----> 1\u001b[0m \u001b[38;5;28mprint\u001b[39m(\u001b[43ma_not_defined\u001b[49m)\n",
      "\u001b[0;31mNameError\u001b[0m: name 'a_not_defined' is not defined"
     ]
    }
   ],
   "source": [
    "print(a_not_defined)"
   ]
  },
  {
   "cell_type": "code",
   "execution_count": 35,
   "id": "f41967cf",
   "metadata": {},
   "outputs": [
    {
     "ename": "IndentationError",
     "evalue": "expected an indented block (3614531987.py, line 1)",
     "output_type": "error",
     "traceback": [
      "\u001b[0;36m  Cell \u001b[0;32mIn[35], line 1\u001b[0;36m\u001b[0m\n\u001b[0;31m    if 573:\u001b[0m\n\u001b[0m           ^\u001b[0m\n\u001b[0;31mIndentationError\u001b[0m\u001b[0;31m:\u001b[0m expected an indented block\n"
     ]
    }
   ],
   "source": [
    "if 573:"
   ]
  },
  {
   "cell_type": "code",
   "execution_count": 36,
   "id": "fb14c47a",
   "metadata": {},
   "outputs": [
    {
     "ename": "ModuleNotFoundError",
     "evalue": "No module named 'something_weird'",
     "output_type": "error",
     "traceback": [
      "\u001b[0;31m---------------------------------------------------------------------------\u001b[0m",
      "\u001b[0;31mModuleNotFoundError\u001b[0m                       Traceback (most recent call last)",
      "Cell \u001b[0;32mIn[36], line 1\u001b[0m\n\u001b[0;32m----> 1\u001b[0m \u001b[38;5;28;01mimport\u001b[39;00m \u001b[38;5;21;01msomething_weird\u001b[39;00m\n",
      "\u001b[0;31mModuleNotFoundError\u001b[0m: No module named 'something_weird'"
     ]
    }
   ],
   "source": [
    "import something_weird"
   ]
  },
  {
   "cell_type": "code",
   "execution_count": 37,
   "id": "db10e47c",
   "metadata": {},
   "outputs": [
    {
     "ename": "AttributeError",
     "evalue": "'str' object has no attribute 'sort'",
     "output_type": "error",
     "traceback": [
      "\u001b[0;31m---------------------------------------------------------------------------\u001b[0m",
      "\u001b[0;31mAttributeError\u001b[0m                            Traceback (most recent call last)",
      "Cell \u001b[0;32mIn[37], line 1\u001b[0m\n\u001b[0;32m----> 1\u001b[0m \u001b[38;5;124;43m\"\u001b[39;49m\u001b[38;5;124;43ma random string\u001b[39;49m\u001b[38;5;124;43m\"\u001b[39;49m\u001b[38;5;241;43m.\u001b[39;49m\u001b[43msort\u001b[49m()\n",
      "\u001b[0;31mAttributeError\u001b[0m: 'str' object has no attribute 'sort'"
     ]
    }
   ],
   "source": [
    "\"a random string\".sort()"
   ]
  },
  {
   "cell_type": "code",
   "execution_count": 38,
   "id": "f4b40ccd",
   "metadata": {},
   "outputs": [
    {
     "name": "stdout",
     "output_type": "stream",
     "text": [
      "Before Error!\n"
     ]
    },
    {
     "ename": "ZeroDivisionError",
     "evalue": "division by zero",
     "output_type": "error",
     "traceback": [
      "\u001b[0;31m---------------------------------------------------------------------------\u001b[0m",
      "\u001b[0;31mZeroDivisionError\u001b[0m                         Traceback (most recent call last)",
      "Cell \u001b[0;32mIn[38], line 3\u001b[0m\n\u001b[1;32m      1\u001b[0m \u001b[38;5;28mprint\u001b[39m(\u001b[38;5;124m\"\u001b[39m\u001b[38;5;124mBefore Error!\u001b[39m\u001b[38;5;124m\"\u001b[39m)\n\u001b[0;32m----> 3\u001b[0m \u001b[38;5;241;43m1\u001b[39;49m\u001b[43m \u001b[49m\u001b[38;5;241;43m/\u001b[39;49m\u001b[43m \u001b[49m\u001b[38;5;241;43m0\u001b[39;49m \n\u001b[1;32m      5\u001b[0m \u001b[38;5;28mprint\u001b[39m(\u001b[38;5;124m\"\u001b[39m\u001b[38;5;124mAfter Error!\u001b[39m\u001b[38;5;124m\"\u001b[39m)\n",
      "\u001b[0;31mZeroDivisionError\u001b[0m: division by zero"
     ]
    }
   ],
   "source": [
    "print(\"Before Error!\")\n",
    "\n",
    "1 / 0 \n",
    "\n",
    "print(\"After Error!\")"
   ]
  },
  {
   "cell_type": "code",
   "execution_count": 40,
   "id": "34794b0b",
   "metadata": {},
   "outputs": [],
   "source": [
    "# dir(__builtins__)"
   ]
  },
  {
   "cell_type": "code",
   "execution_count": 42,
   "id": "6ac3acdd",
   "metadata": {},
   "outputs": [
    {
     "name": "stdout",
     "output_type": "stream",
     "text": [
      "ArithmeticError\n",
      "AssertionError\n",
      "AttributeError\n",
      "BlockingIOError\n",
      "BrokenPipeError\n",
      "BufferError\n",
      "ChildProcessError\n",
      "ConnectionAbortedError\n",
      "ConnectionError\n",
      "ConnectionRefusedError\n",
      "ConnectionResetError\n",
      "EOFError\n",
      "EnvironmentError\n",
      "FileExistsError\n",
      "FileNotFoundError\n",
      "FloatingPointError\n",
      "IOError\n",
      "ImportError\n",
      "IndentationError\n",
      "IndexError\n",
      "InterruptedError\n",
      "IsADirectoryError\n",
      "KeyError\n",
      "LookupError\n",
      "MemoryError\n",
      "ModuleNotFoundError\n",
      "NameError\n",
      "NotADirectoryError\n",
      "NotImplementedError\n",
      "OSError\n",
      "OverflowError\n",
      "PermissionError\n",
      "ProcessLookupError\n",
      "RecursionError\n",
      "ReferenceError\n",
      "RuntimeError\n",
      "SyntaxError\n",
      "SystemError\n",
      "TabError\n",
      "TimeoutError\n",
      "TypeError\n",
      "UnboundLocalError\n",
      "UnicodeDecodeError\n",
      "UnicodeEncodeError\n",
      "UnicodeError\n",
      "UnicodeTranslateError\n",
      "ValueError\n",
      "ZeroDivisionError\n"
     ]
    }
   ],
   "source": [
    "for i in dir(__builtins__):\n",
    "    if \"Error\" in i:\n",
    "        print(i)"
   ]
  },
  {
   "cell_type": "code",
   "execution_count": 43,
   "id": "125945f4",
   "metadata": {},
   "outputs": [
    {
     "name": "stdout",
     "output_type": "stream",
     "text": [
      "Division by zero is not possible\n",
      "CODE COMPLETES SUCCESSFULLY!\n"
     ]
    }
   ],
   "source": [
    "try:\n",
    "    def random_function(a, b):\n",
    "        return a / b\n",
    "    \n",
    "    random_function(5, 0)\n",
    "except:\n",
    "    print(\"Division by zero is not possible\")\n",
    "    \n",
    "print(\"CODE COMPLETES SUCCESSFULLY!\")"
   ]
  },
  {
   "cell_type": "code",
   "execution_count": 44,
   "id": "2f0de4f0",
   "metadata": {},
   "outputs": [
    {
     "name": "stdout",
     "output_type": "stream",
     "text": [
      "Error occured - division by zero\n",
      "CODE COMPLETES SUCCESSFULLY!\n"
     ]
    }
   ],
   "source": [
    "try:\n",
    "    def random_function(a, b):\n",
    "        return a / b\n",
    "    \n",
    "    random_function(5, 0)\n",
    "except Exception as e:\n",
    "    print(f\"Error occured - {e}\")\n",
    "    \n",
    "print(\"CODE COMPLETES SUCCESSFULLY!\")"
   ]
  },
  {
   "cell_type": "code",
   "execution_count": 46,
   "id": "fc89c96c",
   "metadata": {},
   "outputs": [
    {
     "name": "stdout",
     "output_type": "stream",
     "text": [
      "Current Element - 2\n",
      "Result - 2.5\n",
      "-------------------------\n",
      "Current Element - 0\n",
      "Error - division by zero\n",
      "-------------------------\n",
      "Current Element - hello\n",
      "Error - invalid literal for int() with base 10: 'hello'\n",
      "-------------------------\n",
      "Current Element - None\n",
      "Error - int() argument must be a string, a bytes-like object or a number, not 'NoneType'\n",
      "-------------------------\n",
      "Execution Successful!\n"
     ]
    }
   ],
   "source": [
    "l = [2, 0, \"hello\", None]\n",
    "\n",
    "for element in l:\n",
    "    try:\n",
    "        print(f\"Current Element - {element}\")\n",
    "        result = 5 / int(element)\n",
    "        print(f\"Result - {result}\")\n",
    "    except Exception as e:\n",
    "        print(f\"Error - {e}\")\n",
    "        \n",
    "    print(\"-\"*25)\n",
    "    \n",
    "print(\"Execution Successful!\")"
   ]
  },
  {
   "cell_type": "code",
   "execution_count": 48,
   "id": "2b80f990",
   "metadata": {},
   "outputs": [
    {
     "name": "stdout",
     "output_type": "stream",
     "text": [
      "Current Element - 2\n",
      "Result - 2.5\n",
      "-------------------------\n",
      "Current Element - 0\n",
      "You DIVIDED BY ZERO so here is the number as is - 0\n",
      "-------------------------\n",
      "Current Element - hello\n",
      "Error - invalid literal for int() with base 10: 'hello'\n",
      "-------------------------\n",
      "Current Element - None\n",
      "Error - int() argument must be a string, a bytes-like object or a number, not 'NoneType'\n",
      "-------------------------\n",
      "Execution Successful!\n"
     ]
    }
   ],
   "source": [
    "l = [2, 0, \"hello\", None]\n",
    "\n",
    "for element in l:\n",
    "    try:\n",
    "        print(f\"Current Element - {element}\")\n",
    "        result = 5 / int(element)\n",
    "        print(f\"Result - {result}\")\n",
    "    except ZeroDivisionError as z:\n",
    "        print(f\"You DIVIDED BY ZERO so here is the number as is - {element}\")\n",
    "    except Exception as e:\n",
    "        print(f\"Error - {e}\")\n",
    "        \n",
    "    print(\"-\"*25)\n",
    "    \n",
    "print(\"Execution Successful!\")"
   ]
  },
  {
   "cell_type": "code",
   "execution_count": 49,
   "id": "de8de79c",
   "metadata": {},
   "outputs": [
    {
     "name": "stdout",
     "output_type": "stream",
     "text": [
      "Current Element - 2\n",
      "Result - 2.5\n",
      "-------------------------\n",
      "Current Element - 0\n",
      "Error - division by zero\n",
      "-------------------------\n",
      "Current Element - hello\n",
      "Error - invalid literal for int() with base 10: 'hello'\n",
      "-------------------------\n",
      "Current Element - None\n",
      "Error - int() argument must be a string, a bytes-like object or a number, not 'NoneType'\n",
      "-------------------------\n",
      "Execution Successful!\n"
     ]
    }
   ],
   "source": [
    "l = [2, 0, \"hello\", None]\n",
    "\n",
    "for element in l:\n",
    "    try:\n",
    "        print(f\"Current Element - {element}\")\n",
    "        result = 5 / int(element)\n",
    "        print(f\"Result - {result}\")\n",
    "    except Exception as e:\n",
    "        print(f\"Error - {e}\")\n",
    "    except ZeroDivisionError as z:\n",
    "        print(f\"You DIVIDED BY ZERO so here is the number as is - {element}\")\n",
    "        \n",
    "    print(\"-\"*25)\n",
    "    \n",
    "print(\"Execution Successful!\")"
   ]
  },
  {
   "cell_type": "code",
   "execution_count": 51,
   "id": "a57371d4",
   "metadata": {},
   "outputs": [
    {
     "name": "stdout",
     "output_type": "stream",
     "text": [
      "TRY\n",
      "FINALLY\n"
     ]
    }
   ],
   "source": [
    "try:\n",
    "    print(\"TRY\")\n",
    "    # 1 / 0\n",
    "except:\n",
    "    print(\"EXCEPT\")\n",
    "finally:\n",
    "    print(\"FINALLY\")"
   ]
  },
  {
   "cell_type": "code",
   "execution_count": 53,
   "id": "5faefc30",
   "metadata": {},
   "outputs": [
    {
     "name": "stdout",
     "output_type": "stream",
     "text": [
      "TRY\n",
      "EXCEPT\n",
      "FINALLY\n"
     ]
    }
   ],
   "source": [
    "try:\n",
    "    print(\"TRY\")\n",
    "    1 / 0\n",
    "except:\n",
    "    print(\"EXCEPT\")\n",
    "\n",
    "print(\"FINALLY\")"
   ]
  },
  {
   "cell_type": "code",
   "execution_count": 54,
   "id": "312a14fa",
   "metadata": {},
   "outputs": [],
   "source": [
    "# HOMEWORK\n",
    "# -> Why do we need finally"
   ]
  },
  {
   "cell_type": "code",
   "execution_count": 57,
   "id": "3aaf4685",
   "metadata": {},
   "outputs": [
    {
     "name": "stdout",
     "output_type": "stream",
     "text": [
      "TRY\n",
      "EXCEPT\n",
      "FINALLY\n"
     ]
    }
   ],
   "source": [
    "# NOT THAT IMPORTANT\n",
    "\n",
    "try:\n",
    "    print(\"TRY\")\n",
    "    1 / 0\n",
    "except:\n",
    "    print(\"EXCEPT\")\n",
    "else:\n",
    "    print(\"ELSE\")\n",
    "finally:\n",
    "    print(\"FINALLY\")"
   ]
  },
  {
   "cell_type": "code",
   "execution_count": 58,
   "id": "8082e5c7",
   "metadata": {},
   "outputs": [
    {
     "ename": "Exception",
     "evalue": "THIS PASSWORD IS INCORRECT!",
     "output_type": "error",
     "traceback": [
      "\u001b[0;31m---------------------------------------------------------------------------\u001b[0m",
      "\u001b[0;31mException\u001b[0m                                 Traceback (most recent call last)",
      "Cell \u001b[0;32mIn[58], line 1\u001b[0m\n\u001b[0;32m----> 1\u001b[0m \u001b[38;5;28;01mraise\u001b[39;00m \u001b[38;5;167;01mException\u001b[39;00m(\u001b[38;5;124m\"\u001b[39m\u001b[38;5;124mTHIS PASSWORD IS INCORRECT!\u001b[39m\u001b[38;5;124m\"\u001b[39m)\n",
      "\u001b[0;31mException\u001b[0m: THIS PASSWORD IS INCORRECT!"
     ]
    }
   ],
   "source": [
    "raise Exception(\"THIS PASSWORD IS INCORRECT!\")"
   ]
  },
  {
   "cell_type": "code",
   "execution_count": 61,
   "id": "a4b9ea28",
   "metadata": {},
   "outputs": [
    {
     "name": "stdout",
     "output_type": "stream",
     "text": [
      "bip\n",
      "Length should be greater than 4. Please Try Again!\n",
      "abh\n",
      "Length should be greater than 4. Please Try Again!\n",
      "Abhijeet\n",
      "Name -  Abhijeet\n"
     ]
    }
   ],
   "source": [
    "correct_name = False\n",
    "\n",
    "while correct_name == False:\n",
    "    name = input()\n",
    "\n",
    "    try:\n",
    "        if len(name) < 5:\n",
    "            raise Exception(\"Length should be greater than 4. Please Try Again!\")\n",
    "        else:\n",
    "            print(\"Name - \", name)\n",
    "            correct_name = True\n",
    "    except Exception as e:\n",
    "        print(e)"
   ]
  },
  {
   "cell_type": "code",
   "execution_count": 68,
   "id": "31f4ea82",
   "metadata": {},
   "outputs": [],
   "source": [
    "class MyCustomLenException(Exception):\n",
    "    def __init__(self):\n",
    "        super().__init__(\"Len is Small!\")"
   ]
  },
  {
   "cell_type": "code",
   "execution_count": 69,
   "id": "081a6f2d",
   "metadata": {},
   "outputs": [
    {
     "ename": "MyCustomLenException",
     "evalue": "Len is Small!",
     "output_type": "error",
     "traceback": [
      "\u001b[0;31m---------------------------------------------------------------------------\u001b[0m",
      "\u001b[0;31mMyCustomLenException\u001b[0m                      Traceback (most recent call last)",
      "Cell \u001b[0;32mIn[69], line 1\u001b[0m\n\u001b[0;32m----> 1\u001b[0m \u001b[38;5;28;01mraise\u001b[39;00m MyCustomLenException()\n",
      "\u001b[0;31mMyCustomLenException\u001b[0m: Len is Small!"
     ]
    }
   ],
   "source": [
    "raise MyCustomLenException()"
   ]
  },
  {
   "cell_type": "code",
   "execution_count": 70,
   "id": "f16e161e",
   "metadata": {},
   "outputs": [
    {
     "name": "stdout",
     "output_type": "stream",
     "text": [
      "N\n",
      "E\n",
      "E\n",
      "E\n"
     ]
    }
   ],
   "source": [
    "l1 = [2, 0, \"hello\", None]\n",
    "\n",
    "for e in l1:\n",
    "    try:\n",
    "        result = 5 / int(e)\n",
    "        print(\"N\")\n",
    "    except Exception as ex:\n",
    "        print(\"E\")\n",
    "    except ZeroDivisionError as z:\n",
    "        print(\"Z\")"
   ]
  },
  {
   "cell_type": "code",
   "execution_count": null,
   "id": "913aa056",
   "metadata": {},
   "outputs": [],
   "source": []
  }
 ],
 "metadata": {
  "kernelspec": {
   "display_name": "Python 3 (ipykernel)",
   "language": "python",
   "name": "python3"
  },
  "language_info": {
   "codemirror_mode": {
    "name": "ipython",
    "version": 3
   },
   "file_extension": ".py",
   "mimetype": "text/x-python",
   "name": "python",
   "nbconvert_exporter": "python",
   "pygments_lexer": "ipython3",
   "version": "3.9.5"
  }
 },
 "nbformat": 4,
 "nbformat_minor": 5
}
