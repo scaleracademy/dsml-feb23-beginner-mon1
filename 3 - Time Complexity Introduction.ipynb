{
 "cells": [
  {
   "cell_type": "code",
   "execution_count": 5,
   "id": "591e0a7b",
   "metadata": {},
   "outputs": [],
   "source": [
    "def foo(n): # Operation 1 -> Take Argument\n",
    "    x = 1 # Operation 2\n",
    "    y = 2 # Operation 3\n",
    "    z = 3 # Operation 4\n",
    "    print(x, y, z) # Operation 5\n",
    "    \n",
    "# THIS CODE ALWAYS PERFORMS A CONSTANT AMOUNT OF OPERATIONS\n",
    "# O(1) -> Big O (1) represents all constant time functions"
   ]
  },
  {
   "cell_type": "code",
   "execution_count": 6,
   "id": "c5c2a4ea",
   "metadata": {},
   "outputs": [
    {
     "name": "stdout",
     "output_type": "stream",
     "text": [
      "1 2 3\n"
     ]
    }
   ],
   "source": [
    "foo(100)"
   ]
  },
  {
   "cell_type": "code",
   "execution_count": 7,
   "id": "810f57a4",
   "metadata": {},
   "outputs": [
    {
     "name": "stdout",
     "output_type": "stream",
     "text": [
      "1 2 3\n"
     ]
    }
   ],
   "source": [
    "foo(1000)"
   ]
  },
  {
   "cell_type": "code",
   "execution_count": 8,
   "id": "777a3606",
   "metadata": {},
   "outputs": [
    {
     "name": "stdout",
     "output_type": "stream",
     "text": [
      "1 2 3\n"
     ]
    }
   ],
   "source": [
    "foo(1000000000000)"
   ]
  },
  {
   "cell_type": "code",
   "execution_count": 9,
   "id": "eb63f649",
   "metadata": {},
   "outputs": [],
   "source": [
    "def foo(n): \n",
    "    for i in range(n):\n",
    "        print(i) # n operations\n",
    "        \n",
    "# THE NUMBER OF OPERATIONS LINEARLY CHANGES WITH THE INPUT\n",
    "# O(n)"
   ]
  },
  {
   "cell_type": "code",
   "execution_count": 10,
   "id": "1b019149",
   "metadata": {},
   "outputs": [
    {
     "name": "stdout",
     "output_type": "stream",
     "text": [
      "0\n",
      "1\n",
      "2\n",
      "3\n",
      "4\n"
     ]
    }
   ],
   "source": [
    "foo(5)"
   ]
  },
  {
   "cell_type": "code",
   "execution_count": 11,
   "id": "0ca384d9",
   "metadata": {},
   "outputs": [
    {
     "name": "stdout",
     "output_type": "stream",
     "text": [
      "0\n",
      "1\n",
      "2\n",
      "3\n",
      "4\n",
      "5\n",
      "6\n",
      "7\n",
      "8\n",
      "9\n"
     ]
    }
   ],
   "source": [
    "foo(10)"
   ]
  },
  {
   "cell_type": "code",
   "execution_count": 13,
   "id": "a6325f16",
   "metadata": {},
   "outputs": [],
   "source": [
    "# foo(1000)"
   ]
  },
  {
   "cell_type": "code",
   "execution_count": 16,
   "id": "5a1f0064",
   "metadata": {},
   "outputs": [],
   "source": [
    "def foo(n):\n",
    "    for i in range(n):\n",
    "        for j in range(n): # n operations\n",
    "            print(i, j) # n ^ 2 operations\n",
    "            \n",
    "# THE NUMBER OF OPERATIONS GROWS EXPONENTIALLY\n",
    "# O(n^2)"
   ]
  },
  {
   "cell_type": "code",
   "execution_count": 30,
   "id": "25a4f047",
   "metadata": {},
   "outputs": [],
   "source": [
    "random = {}\n",
    "random[1.1] = \"JavaScript\"\n",
    "random[1.0] = \"Python\"\n",
    "random[1] = \"C++\"\n",
    "random[True] = \"JAVA\"\n",
    "random[1+0j] = \"TypeScript\"\n",
    "\n",
    "# print(f\"{random[1.1]} and {random[True]}\")\n",
    "\n",
    "# HASHING -> MATHEMATICAL VALUES -> ABSOLUTE VALUES"
   ]
  },
  {
   "cell_type": "code",
   "execution_count": 31,
   "id": "19f98808",
   "metadata": {},
   "outputs": [
    {
     "data": {
      "text/plain": [
       "{1.1: 'JavaScript', 1.0: 'TypeScript'}"
      ]
     },
     "execution_count": 31,
     "metadata": {},
     "output_type": "execute_result"
    }
   ],
   "source": [
    "random"
   ]
  },
  {
   "cell_type": "code",
   "execution_count": 35,
   "id": "f2a26c96",
   "metadata": {},
   "outputs": [
    {
     "data": {
      "text/plain": [
       "'TypeScript'"
      ]
     },
     "execution_count": 35,
     "metadata": {},
     "output_type": "execute_result"
    }
   ],
   "source": [
    "random[1+0j]"
   ]
  },
  {
   "cell_type": "code",
   "execution_count": 36,
   "id": "7a38f4af",
   "metadata": {},
   "outputs": [
    {
     "data": {
      "text/plain": [
       "1"
      ]
     },
     "execution_count": 36,
     "metadata": {},
     "output_type": "execute_result"
    }
   ],
   "source": [
    "int(True)"
   ]
  },
  {
   "cell_type": "markdown",
   "id": "c4b9d747",
   "metadata": {},
   "source": [
    "# Sorting"
   ]
  },
  {
   "cell_type": "code",
   "execution_count": 37,
   "id": "64d92c44",
   "metadata": {},
   "outputs": [],
   "source": [
    "a = [30, 20, 15, 18, 5, 7, 24, 56, 2, 12]"
   ]
  },
  {
   "cell_type": "code",
   "execution_count": 39,
   "id": "66d958be",
   "metadata": {},
   "outputs": [],
   "source": [
    "a.sort()"
   ]
  },
  {
   "cell_type": "code",
   "execution_count": 40,
   "id": "2ab872d3",
   "metadata": {},
   "outputs": [
    {
     "data": {
      "text/plain": [
       "[2, 5, 7, 12, 15, 18, 20, 24, 30, 56]"
      ]
     },
     "execution_count": 40,
     "metadata": {},
     "output_type": "execute_result"
    }
   ],
   "source": [
    "a"
   ]
  },
  {
   "cell_type": "code",
   "execution_count": 41,
   "id": "4a7095d4",
   "metadata": {},
   "outputs": [],
   "source": [
    "a = [30, 20, 15, 18, 5, 7, 24, 56, 2, 12]"
   ]
  },
  {
   "cell_type": "code",
   "execution_count": 42,
   "id": "acabcb83",
   "metadata": {},
   "outputs": [
    {
     "data": {
      "text/plain": [
       "[2, 5, 7, 12, 15, 18, 20, 24, 30, 56]"
      ]
     },
     "execution_count": 42,
     "metadata": {},
     "output_type": "execute_result"
    }
   ],
   "source": [
    "sorted(a)"
   ]
  },
  {
   "cell_type": "code",
   "execution_count": 43,
   "id": "c6e8c8ab",
   "metadata": {},
   "outputs": [
    {
     "data": {
      "text/plain": [
       "[30, 20, 15, 18, 5, 7, 24, 56, 2, 12]"
      ]
     },
     "execution_count": 43,
     "metadata": {},
     "output_type": "execute_result"
    }
   ],
   "source": [
    "a"
   ]
  },
  {
   "cell_type": "code",
   "execution_count": 44,
   "id": "4cf779df",
   "metadata": {},
   "outputs": [],
   "source": [
    "# BUBBLE SORT\n",
    "\n",
    "def bubble_sort(a):\n",
    "    for i in range(len(a) - 1):\n",
    "        for j in range(len(a) - 1 - i):\n",
    "            if a[j] > a[j + 1]:\n",
    "                a[j], a[j + 1] = a[j + 1], a[j]\n",
    "                \n",
    "    return a"
   ]
  },
  {
   "cell_type": "code",
   "execution_count": 45,
   "id": "8b9e95b5",
   "metadata": {},
   "outputs": [
    {
     "data": {
      "text/plain": [
       "[30, 20, 15, 18, 5, 7, 24, 56, 2, 12]"
      ]
     },
     "execution_count": 45,
     "metadata": {},
     "output_type": "execute_result"
    }
   ],
   "source": [
    "a"
   ]
  },
  {
   "cell_type": "code",
   "execution_count": 46,
   "id": "7bda795e",
   "metadata": {},
   "outputs": [
    {
     "data": {
      "text/plain": [
       "[2, 5, 7, 12, 15, 18, 20, 24, 30, 56]"
      ]
     },
     "execution_count": 46,
     "metadata": {},
     "output_type": "execute_result"
    }
   ],
   "source": [
    "bubble_sort(a)"
   ]
  },
  {
   "cell_type": "code",
   "execution_count": 51,
   "id": "73cd0d79",
   "metadata": {},
   "outputs": [],
   "source": [
    "def bubble_sort_visual(a):\n",
    "    for i in range(len(a) - 1):\n",
    "        print(a)\n",
    "        for j in range(len(a) - 1 - i):\n",
    "            if a[j] > a[j + 1]:\n",
    "                a[j], a[j + 1] = a[j + 1], a[j]\n",
    "            \n",
    "            print(\"\\t\", a)\n",
    "        print(\"-\" * 50)\n",
    "            \n",
    "    \n",
    "    print(f\"FINAL RESULT -> {a}\")            \n",
    "    return a"
   ]
  },
  {
   "cell_type": "code",
   "execution_count": 52,
   "id": "25a6726e",
   "metadata": {},
   "outputs": [
    {
     "data": {
      "text/plain": [
       "[1, 2, 3, 4, 5, 6, 7]"
      ]
     },
     "execution_count": 52,
     "metadata": {},
     "output_type": "execute_result"
    }
   ],
   "source": [
    "a"
   ]
  },
  {
   "cell_type": "code",
   "execution_count": 53,
   "id": "1465f982",
   "metadata": {},
   "outputs": [],
   "source": [
    "a = [5, 1, 2, 4, 7, 3, 6]"
   ]
  },
  {
   "cell_type": "code",
   "execution_count": 54,
   "id": "f8c3f497",
   "metadata": {},
   "outputs": [
    {
     "name": "stdout",
     "output_type": "stream",
     "text": [
      "[5, 1, 2, 4, 7, 3, 6]\n",
      "\t [1, 5, 2, 4, 7, 3, 6]\n",
      "\t [1, 2, 5, 4, 7, 3, 6]\n",
      "\t [1, 2, 4, 5, 7, 3, 6]\n",
      "\t [1, 2, 4, 5, 7, 3, 6]\n",
      "\t [1, 2, 4, 5, 3, 7, 6]\n",
      "\t [1, 2, 4, 5, 3, 6, 7]\n",
      "--------------------------------------------------\n",
      "[1, 2, 4, 5, 3, 6, 7]\n",
      "\t [1, 2, 4, 5, 3, 6, 7]\n",
      "\t [1, 2, 4, 5, 3, 6, 7]\n",
      "\t [1, 2, 4, 5, 3, 6, 7]\n",
      "\t [1, 2, 4, 3, 5, 6, 7]\n",
      "\t [1, 2, 4, 3, 5, 6, 7]\n",
      "--------------------------------------------------\n",
      "[1, 2, 4, 3, 5, 6, 7]\n",
      "\t [1, 2, 4, 3, 5, 6, 7]\n",
      "\t [1, 2, 4, 3, 5, 6, 7]\n",
      "\t [1, 2, 3, 4, 5, 6, 7]\n",
      "\t [1, 2, 3, 4, 5, 6, 7]\n",
      "--------------------------------------------------\n",
      "[1, 2, 3, 4, 5, 6, 7]\n",
      "\t [1, 2, 3, 4, 5, 6, 7]\n",
      "\t [1, 2, 3, 4, 5, 6, 7]\n",
      "\t [1, 2, 3, 4, 5, 6, 7]\n",
      "--------------------------------------------------\n",
      "[1, 2, 3, 4, 5, 6, 7]\n",
      "\t [1, 2, 3, 4, 5, 6, 7]\n",
      "\t [1, 2, 3, 4, 5, 6, 7]\n",
      "--------------------------------------------------\n",
      "[1, 2, 3, 4, 5, 6, 7]\n",
      "\t [1, 2, 3, 4, 5, 6, 7]\n",
      "--------------------------------------------------\n",
      "FINAL RESULT -> [1, 2, 3, 4, 5, 6, 7]\n"
     ]
    },
    {
     "data": {
      "text/plain": [
       "[1, 2, 3, 4, 5, 6, 7]"
      ]
     },
     "execution_count": 54,
     "metadata": {},
     "output_type": "execute_result"
    }
   ],
   "source": [
    "bubble_sort_visual(a)"
   ]
  },
  {
   "cell_type": "code",
   "execution_count": null,
   "id": "fefb6c98",
   "metadata": {},
   "outputs": [],
   "source": []
  }
 ],
 "metadata": {
  "kernelspec": {
   "display_name": "Python 3 (ipykernel)",
   "language": "python",
   "name": "python3"
  },
  "language_info": {
   "codemirror_mode": {
    "name": "ipython",
    "version": 3
   },
   "file_extension": ".py",
   "mimetype": "text/x-python",
   "name": "python",
   "nbconvert_exporter": "python",
   "pygments_lexer": "ipython3",
   "version": "3.9.5"
  }
 },
 "nbformat": 4,
 "nbformat_minor": 5
}
